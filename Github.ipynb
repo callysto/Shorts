{
 "cells": [
  {
   "cell_type": "markdown",
   "metadata": {},
   "source": [
    "![alt text](https://github.com/callysto/callysto-sample-notebooks/blob/master/notebooks/images/Callysto_Notebook-Banner_Top_06.06.18.jpg?raw=true)"
   ]
  },
  {
   "cell_type": "markdown",
   "metadata": {},
   "source": [
    "## Saving your work on Github\n",
    "\n",
    "Here are the key steps. Run all these command in a new Terminal in your Jupyter Hub. Change directories until you are in the directory (folder) that you want to save on GitHub.\n",
    "\n",
    "1. \n",
    "If you haven't set up your name and email for git yet, you need to do that:\n",
    "```\n",
    " git config --global user.email \"you@example.com\"\n",
    " git config --global user.name \"Your Name\"\n",
    "```\n",
    "\n",
    "2. \n",
    "From inside the folder you want to save, set it up as a git repo with these commands:\n",
    "```\n",
    "git init\n",
    "git add *\n",
    "git commit -m \"First commit, or whatever\"\n",
    "```\n",
    "\n",
    "3. \n",
    "Log onto Github, on your account, and create a new repo. Here, we call it Test1. DO NOT include any initialization files.\n",
    "\n",
    "4. \n",
    "Add your github account repo as the origin for your local repo. (Here, acct_name should be replaced with your github account. Test1.git is the name of the github repo you created.)\n",
    "```\n",
    "git remote add origin https://github.com/acct_name/Test1.git\n",
    "```\n",
    "\n",
    "5.\n",
    "Now push your local files onto the github repo using this:\n",
    "```\n",
    "git push -u origin master\n",
    "```\n",
    "\n",
    "6. \n",
    "Git will ask you for your github account name and password, before proceeding.\n",
    "\n",
    "7. \n",
    "You can now check on GitHub to see that your online repo has been populated with the files you wanted.\n",
    "\n",
    "8. \n",
    "From now on, you can pull and push items between your local repo and the Github repo as you desire.\n"
   ]
  },
  {
   "cell_type": "markdown",
   "metadata": {},
   "source": [
    "## Learning more about Git and Github\n",
    "\n",
    "Here is a good resource:\n",
    "https://help.github.com/articles/adding-an-existing-project-to-github-using-the-command-line/\n",
    "\n",
    "Here is another:\n",
    "http://rogerdudler.github.io/git-guide/\n"
   ]
  },
  {
   "cell_type": "markdown",
   "metadata": {},
   "source": [
    "![alt text](https://github.com/callysto/callysto-sample-notebooks/blob/master/notebooks/images/Callysto_Notebook-Banners_Bottom_06.06.18.jpg?raw=true)"
   ]
  }
 ],
 "metadata": {
  "kernelspec": {
   "display_name": "Python 3",
   "language": "python",
   "name": "python3"
  },
  "language_info": {
   "codemirror_mode": {
    "name": "ipython",
    "version": 3
   },
   "file_extension": ".py",
   "mimetype": "text/x-python",
   "name": "python",
   "nbconvert_exporter": "python",
   "pygments_lexer": "ipython3",
   "version": "3.6.5"
  }
 },
 "nbformat": 4,
 "nbformat_minor": 2
}
