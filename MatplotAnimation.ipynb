{
 "cells": [
  {
   "cell_type": "markdown",
   "metadata": {},
   "source": [
    "![Callysto.ca Banner](https://github.com/callysto/curriculum-notebooks/blob/master/callysto-notebook-banner-top.jpg?raw=true)\n",
    "\n",
    "<a href=\"https://hub.callysto.ca/jupyter/hub/user-redirect/git-pull?repo=https%3A%2F%2Fgithub.com%2Fcallysto%2Fshorts&branch=master&subPath=MatplotAnimation.ipynb&depth=1\" target=\"_parent\"><img src=\"https://raw.githubusercontent.com/callysto/curriculum-notebooks/master/open-in-callysto-button.svg?sanitize=true\" width=\"123\" height=\"24\" alt=\"Open in Callysto\"/></a>"
   ]
  },
  {
   "cell_type": "markdown",
   "metadata": {
    "slideshow": {
     "slide_type": "fragment"
    }
   },
   "source": [
    "# Animation in Matplotlib\n",
    "\n",
    "An animated plot is just a series of plots that are linked together to work as a movie.\n",
    "\n",
    "Matplotlib come with a rich collection of tools to allow us to make movies. In this notebook, we will give a simple example, to get you started. Read online to get many more examples and details. \n",
    "\n",
    "> WARNING. Some features here work better in web browser Firefox and Safari. Unfortunately, Chrome has problems due to its CORS policy (Cross Origin Resource Sharing.) We hope to resolve this soon. \n",
    "\n",
    "First we load in a bunch of modules that do the work in creating the animation. "
   ]
  },
  {
   "cell_type": "code",
   "execution_count": 1,
   "metadata": {
    "execution": {
     "iopub.execute_input": "2020-07-08T04:44:22.493482Z",
     "iopub.status.busy": "2020-07-08T04:44:22.490912Z",
     "iopub.status.idle": "2020-07-08T04:44:22.707128Z",
     "shell.execute_reply": "2020-07-08T04:44:22.706716Z"
    }
   },
   "outputs": [],
   "source": [
    "%matplotlib inline\n",
    "from numpy import *\n",
    "from matplotlib.pyplot import *\n",
    "import matplotlib.animation as animation\n",
    "from IPython.display import HTML"
   ]
  },
  {
   "cell_type": "markdown",
   "metadata": {},
   "source": [
    "Next, we create a figure object using the subplot command, and define two functions \"init\" and \"animate\". Init() sets up the y-data in the plot for us, for the initial frame in the animation. Animate() defines the data for the series of plots we want to display.\n",
    "\n",
    "In this case, we plot translates of the sine function. Animate(i) uses the variable i to count frames, and that i value determines how much we translate the sine function by. "
   ]
  },
  {
   "cell_type": "markdown",
   "metadata": {},
   "source": [
    "## Example 1\n",
    "In this example, i will range from 0 to 99, giving a full cycle of the sine function. "
   ]
  },
  {
   "cell_type": "code",
   "execution_count": 2,
   "metadata": {
    "execution": {
     "iopub.execute_input": "2020-07-08T04:44:22.710824Z",
     "iopub.status.busy": "2020-07-08T04:44:22.710462Z",
     "iopub.status.idle": "2020-07-08T04:44:22.830189Z",
     "shell.execute_reply": "2020-07-08T04:44:22.829837Z"
    }
   },
   "outputs": [
    {
     "data": {
      "image/png": "[encoded data removed]",
      "text/plain": [
       "<Figure size 432x288 with 1 Axes>"
      ]
     },
     "metadata": {
      "needs_background": "light"
     },
     "output_type": "display_data"
    }
   ],
   "source": [
    "fig, ax = subplots()\n",
    "\n",
    "x = linspace(0, 2*pi, 100)\n",
    "line, = ax.plot(x, sin(x));\n",
    "\n",
    "\n",
    "def init():  # only required for blitting to give a clean slate.\n",
    "    line.set_ydata([np.nan] * len(x))\n",
    "    return line,\n",
    "\n",
    "\n",
    "def animate(i):\n",
    "    line.set_ydata(sin(x + 2*pi*i / 100))  # update the data.\n",
    "    return line,\n"
   ]
  },
  {
   "cell_type": "markdown",
   "metadata": {},
   "source": [
    "Next, we call the animation function as follows, making use of the figure, init and animate functions defined above.\n",
    "\n",
    "This creates a new data object call \"ani\" which holds the movie. "
   ]
  },
  {
   "cell_type": "code",
   "execution_count": 3,
   "metadata": {
    "execution": {
     "iopub.execute_input": "2020-07-08T04:44:22.833108Z",
     "iopub.status.busy": "2020-07-08T04:44:22.832789Z",
     "iopub.status.idle": "2020-07-08T04:44:22.849276Z",
     "shell.execute_reply": "2020-07-08T04:44:22.849539Z"
    }
   },
   "outputs": [],
   "source": [
    "ani = animation.FuncAnimation(\n",
    "    fig, animate, init_func=init, interval=20, blit=True, save_count=100) "
   ]
  },
  {
   "cell_type": "markdown",
   "metadata": {},
   "source": [
    "Finally, we display the movie using the HTML() command from the module IPython.display."
   ]
  },
  {
   "cell_type": "code",
   "execution_count": 4,
   "metadata": {
    "execution": {
     "iopub.execute_input": "2020-07-08T04:44:22.851769Z",
     "iopub.status.busy": "2020-07-08T04:44:22.851459Z",
     "iopub.status.idle": "2020-07-08T04:44:25.507555Z",
     "shell.execute_reply": "2020-07-08T04:44:25.507802Z"
    }
   },
   "outputs": [
    {
     "data": {
      "text/html": [
       "<video width=\"432\" height=\"288\" controls autoplay loop>\n",
       "  <source type=\"video/mp4\" src=\"data:video/mp4;base64,AAAAHGZ0eXBNNFYgAAACAGlzb21pc28yYXZjMQAAAAhmcmVlAABXPm1kYXQAAAKuBgX//6rcRem9\n",
       "5tlIt5Ys2CDZI+7veDI2NCAtIGNvcmUgMTU1IHIyOTE3IDBhODRkOTggLSBILjI2NC9NUEVHLTQg\n",
       "QVZDIGNvZGVjIC0gQ29weWxlZnQgMjAwMy0yMDE4IC0gaHR0cDovL3d3dy52aWRlb2xhbi5vcmcv\n",
       "eDI2NC5odG1sIC0gb3B0aW9uczogY2FiYWM9MSByZWY9MyBkZWJsb2NrPTE6MDowIGFuYWx5c2U9\n",
       "MHgzOjB4MTEzIG1lPWhleCBzdWJtZT03IHBzeT0xIHBzeV9yZD0xLjAwOjAuMDAgbWl4ZWRfcmVm\n",
       "PTEgbWVfcmFuZ2U9MTYgY2hyb21hX21lPTEgdHJlbGxpcz0xIDh4OGRjdD0xIGNxbT0wIGRlYWR6\n",
       "b25lPTIxLDExIGZhc3RfcHNraXA9MSBjaHJvbWFfcXBfb2Zmc2V0PS0yIHRocmVhZHM9OSBsb29r\n",
       "YWhlYWRfdGhyZWFkcz0xIHNsaWNlZF90aHJlYWRzPTAgbnI9MCBkZWNpbWF0ZT0xIGludGVybGFj\n",
       "ZWQ9MCBibHVyYXlfY29tcGF0PTAgY29uc3RyYWluZWRfaW50cmE9MCBiZnJhbWVzPTMgYl9weXJh\n",
       "bWlkPTIgYl9hZGFwdD0xIGJfYmlhcz0wIGRpcmVjdD0xIHdlaWdodGI9MSBvcGVuX2dvcD0wIHdl\n",
       "aWdodHA9MiBrZXlpbnQ9MjUwIGtleWludF9taW49MjUgc2NlbmVjdXQ9NDAgaW50cmFfcmVmcmVz\n",
       "aD0wIHJjX2xvb2thaGVhZD00MCByYz1jcmYgbWJ0cmVlPTEgY3JmPTIzLjAgcWNvbXA9MC42MCBx\n",
       "cG1pbj0wIHFwbWF4PTY5IHFwc3RlcD00IGlwX3JhdGlvPTEuNDAgYXE9MToxLjAwAIAAABCPZYiE\n",
       "ACv//vZzfAprRzOVLgV292aj5dCS5fsQYPrQAAADAAGq07IMpSasR30AADyPnBRPN+YBjDdYOX+1\n",
       "DahVL78GESQJ0NKLDG8YeE+kB2pjpLsJCiTw3KgiG1378HIn6aopD8o2d653NTvQjh13cLk+Uaib\n",
       "fGJJYFqG+DdiCR/91E1owKU2ndsu4jWvk+OSmbPrd4S8m5M37BE05NC0/lI8ot8gC+nmqRG6qyg0\n",
       "Jxn+EuhuGv+zYGGNiltBJkoll+7nkfSpX8xlFjgGagRgQq58DZckXkUtmRAVilDXXMvzn0fCS2FD\n",
       "5NBCxdy4Md1MZTrH52hP9YqBGTrXuQL0EQO63rsfhcCFQVnqljIzxDwulCUpbM3OkovY0Jx95APi\n",
       "6vsT9AaYlNNCtYW7+FK31lievogXLVL/PWI9a2EKqgsqD0kwrpFgt3PTHD+yeYRhOvbi5xPDVfBU\n",
       "RpgRk+w8/4EKS7Z9X5cNP1flJ/8SPW/dr3mI1XVzqqZZxZa6Nu6XjPnjeWilyzUYC3oOmzlKW6k0\n",
       "JjALPwkZDY/FsyxQ2aJQKbIjUAoYaLkKenNyV09JM+MvT9J9DVtbHYOfdZlkdIMCrKU6xa77Yru6\n",
       "xqDttm+Bk8/2uc/uA/3wI+Rk8CxqzF9BBrc+F3F8va46RCgQt52CbQFP7/MrAk5qq1ntV+HE9jeP\n",
       "xt3qvzjlcedj8J5UEqgj/QLwiOJDMAbm96QO+xENUZcxwCKw4uh0DmIM+tA6aXjpOdMwD2y599xH\n",
       "IsIQtlWgpdUmxGf57BAwrZk0y8id2q6Etei9z5QqUdMfOgteftwZcWOeoT7yLiv60Dkqs20nVBRw\n",
       "Tv2QZR523svljWQduO77acjjp6ABuS8aN7oig4rLWsB1iDn7f686MNeRdmtIE0vwL+fNX4OMQbDh\n",
       "Wn7ljzZXMWr2xAkffU/egvp/y9Hby4jArBbZGL77EAvkyRysVTuJaV2oXzj1xPv9etWw9Omtbs95\n",
       "v1rggdtbA6JTPWxoHkBU6rAonbeVhRCG8up30ANW6c6DfXyAX611aVes0HFSMMqTbTCnpyhu8uS6\n",
       "WPUnASAy5b3YLVUEgTrJ1IFkegsHwNVbVCt8oCi8mns2F7iTZ4Wpm3imOE7MFLBqyQAAAwOkLOqG\n",
       "UGZZlT1MeBCMmgjr5e91iWkFVnFEzFrPRRVJFEhhZ+nimW1Z8n/9bPpwsV6pcDtKWHBtiJ73nBrn\n",
       "siKIJRgN6cJOlkYYJW1BC5RHq95Ax5ThBcguEnstbY/jEb9hDMTkXB6NHPrgpsapRlITXBmJ4mhK\n",
       "LcG2QIVsXSzYbN6F5DufTwC4HnV0tgJ5deqh2Xv+Sk/OwTIJSDp9Fq6pgpm4xeCvDX8b6xdLo8zm\n",
       "DQCfSR51/c7RBE3T58qYpPsfH1Foj2Y+g+dqc5OsVXMh94cKbVZw0jBKCpVzeWXa2jR4rdWat6cB\n",
       "uyVzFxY+bxTrou9OsjpASonOaX1WhPEnPJSzSmcDKU3k5CUSnFtgQ6fDUZfr7mbgAKFi8t3uOXLc\n",
       "gtLBnqcUGBcUOB5sR3OHg9jZyIKfavddvoIPqSNMesz9shAPbHAw9Uut++EnGfxvYZeY9pEcmguc\n",
       "LgeUBRcNId6vrRWlf6yAPgGuhO58SLPgT6mLiVV5qrwJdO/0Qz2pu+bcBg5H6OIpR1tcJL0CMtha\n",
       "W7ojlDWUf7YxBJnK6PuoTH9knfcoAyS9wIulFuhIn/qvBIFnO0cwO+SIdsr8HHDKL/AFt9ELVYUI\n",
       "VYE+wFyAIdwLvYYjiqeDjDXIIpRlR+0VSuOtLRqxY4KVOeAh6ot8yqwUrSU7xgOKVQlAHk6y3+Mo\n",
       "sCzhTfblpsS+Dx0Q+osG3EI+oXmnNF8Q/4Bd3y3HhNkSxIgWPqnjoatRs5zFOeSvQxUaQzzquxuO\n",
       "Nnb35+kT1shRDAvk77WRq+m7GNMIGRdqq636VBP9aPp/Zd0po8bXoSxnW066cklX8mlxWNmI6Lcf\n",
       "X1ykXQN0F6ZG8IYEbke2RpwgkH0/fyZQIoeGqbYlb5P7o0O27UVB/G4x/+4z2wugG5Ibz/WP4no0\n",
       "fhOjo+wnTqL4W13yNh1Ex7mgj2i0yAnySAeUTohFuNWy5zp3hhY1cBAMgrIhbF4Qlf6ihyfqyTxl\n",
       "rsLkI4f7ETjv7rEQYjdaR5XZ6n6QsdsPsNFW5PHaXRUNmTwNCquUgME2WfNHcW737V2O4eII8VOk\n",
       "Z+fsxCJafspR6+QZGTg4oXjypUF1IrisRnMNjopfFDwOkb3JONrhbcOIrjBu/ZDGBK8BX3LP6vbq\n",
       "J8nEtRo/fdyAcEJuZahP+IGU8QWEbJCTmJMn612VDIBTIeE5rkJmVSJ55Zk1XRDD2k/Os52RZ748\n",
       "KJUEypyX38LJVdksU73DMtcKQZdmYva8cOXgs2uQ9KMfLPAB97W1mWEAMjlNFudUggSDbv9BWUYf\n",
       "Ep/SBqDY3M2TOhyaF2mS+GQyxY+t7ct2hfmOsF3WKuBIycaiPpTSvfkWsxW6I+q+uNbOTPzU2HjZ\n",
       "EM2HuCQ3oMlBfqK1cpQVUc+Lwa0pDcn6EhDdqOa+nQQYZUGftXq3Fxj0U2aZzhyf8CPDDOk/3jun\n",
       "YO9xp36XTtHsdSc3AS7Gvmhl26+fb1WNxGGoHK/BwCsXp2B91JPK297Qe+kw7F+IhwuV4uVNtamT\n",
       "388CnX9nhUJk4+8K2+QbON8F50CS1kkDVzZZC5O7JTGXnfg/fUcSeSjLj1RErU9r/XM5gsfsLlc8\n",
       "f04S7GKIxLiK56hkWJrM6pXA89h8nfzUNkSYYaNB2GDy/1A7iStuYlADwpIMirFRCMYxxGyztuKZ\n",
       "vDB5AClQXRFwQDZzgt/6sIN1xAVFqLrQxS0r/LqJLSAkdaqfPHJDom5pd+3pOv/nFX6wCAPWCKMW\n",
       "TYx2H00HDevEUreCW2hHkoQM8EeWVM7x//igQpf/D7TCBQ0x8L9qMOgB/bKoBtIOmVR0uakKHtXU\n",
       "REWo2akCLKMsD3unW/NO49lUJh0ru2sCF+gZBQQ4qAXYFc0A6SqdzBcZ6KEBKJUpi7ImeCCxSdxp\n",
       "xFT9JAwcMDkEsXgHJPyVvPQAFgCmO4MDNFK5PyzOyZ7oxoZE2axLSK1LpSZgNAs1TnnOs+os4imn\n",
       "KewwaI3h8FCM+oUtauoJRiZ3RsbLaqIa4m6pwCdSDYeciwRBP87lOtZpnlX4VWjcSPrX2CwO8pCz\n",
       "5JAg6VVt6DXBMBmZy7VW2pcmNLxIXo6MEhEwqY9cFRR+DundEuLr0E0AciD00egA/e2Be9qH2CIh\n",
       "TUjcNE16o9Cb9bNtOzJ0tMoQSQoaABf9mUuTjzgdR6stJLstoMTMwtj86bCZhttkCaCjbDzqcCjo\n",
       "xDcwoA3GHsFxHK/3EVfytZW+ZRY4OknSLklm0VN6ImLex7NJHrphpV9Tdd8WARGV03MgoMbW6eGa\n",
       "aNtbNWSUZhVuPo6RDczndTqzxW16IfqQdvZPtAed8/+6vWd1VpgHqAGGHji3F1O0yWbwB19iox7n\n",
       "2+GlkHpENMpcXCG9Yrfg6FvboS+VQ/8Zr3TbfdN+BoKe+ywJI8rQMftemm3gf/2I83VKfuQTxBV9\n",
       "/SeyycS2E+bhcjRenygesZOWFjDXC5FJVnWZlFgIVSiwUtKGX2eqKUBjcY8FgwLnfP+tGsG1BqQB\n",
       "dkWwCNMKqdB/LUfdgHUidDmt4v5oWjkmSiXVIo5dU3ux8sQ3jWdl1l5FCetqcUR8c/aDriuVBqqU\n",
       "AyqxraMehSf8P9Hfx8lG4F0zoGF13qgDEqu4yvsF2jGSqLU5c5FJskSv8uk5ikA38xexLj82rGQ1\n",
       "DWDHI8N6A6/YH4AhgOlcw+6IZWyuppwp6WH+a4/BbTysSM8yU3YlLkfvUyOka/RoUP7MNf6cjr8n\n",
       "td/YTLO8TpdiKsTuxhcDZiYFpYsewSlra2Bj72gbqhB5gYIeFnFOJqtJ26rOrMAUyrU2D4iiD6HI\n",
       "lpluMT+rELo2jj4O3NTuwrHKHGcsPRWn5zmd3ddr2Pk3QMtXPV/gGbh8aDwRLjLjveZxSKfNHDrm\n",
       "//QKxbgBK3zTYWSQQJ3vHDer0M3TAorUSx6N0aeFW8JQu+5eVcOVv4FV+635cvhM+n/jX2vfAkAb\n",
       "d7lFPMBc1G0rOcO7Bq4mX/xoq5o55nDkyaFd1FOlTS8x5jR+OO0r6hJnTzhf0D9trNhhwhNWVA71\n",
       "rJo26m1elB6bssjtbXvUMf/npAUuUgTf3Rp//gbhTcJLicvDE2U0IpGwaBKDiDG0QRDq7YUjGF8N\n",
       "q7uYX62zneEN3jJysPfp00l9+sB8W8gRhgcExvXIWqVSf+0RE8eezLfNGqYQolgsr4V3pJGicryP\n",
       "OAoyOm/KS5iv4JizljmlMQ3dOOfnj9/+VD0NAx9S58pw8EDp5wa2YB6GYo/eoPRxgBIXTOcUqFhq\n",
       "IhH/RFsR2OqnlO8IeOoVYSsry9taUrxmIl/dXheBtelBiDf4TmocuZdbvw8rtSkJpGhjohMQPHjd\n",
       "eLBRGexraz7Mc+gUqqazWaD0YJodu2blHHBDA37NCZH3AawSncSboE6pc4B0+8YO2hpjjAoiM8Ct\n",
       "jR8kbRxZN5M11+13YfxdloKo3msmtLoP/8Islzs1JffzAGruC7+DKLa2bq9sRFenlEOmxJKd4fpZ\n",
       "TlbG4+T6oowbv0Gph/rra3lzlEfEWOpvyYsumm1VMMFbaFolDkYZoBXSgssiVVEovMXRyuJqAuyF\n",
       "i5h0vRjUvraoZwMWgresg1XrboyHOdiu3PH2x285xqZHxM19QcPXO245bBy7zLwGNs3FYhr1L8X5\n",
       "J7HUhxquRTtEp2WnsRgoWvBPnI/sYqOoLQ5JdVa+bvV4NEoo/R7KlHWG0uJ7j1vMWw55ipBsxCat\n",
       "c2HR3lRf2WuMXi/OBud5Zi0kuKYNKu8BdgA2qAYToAXsjTb2ZqH6ly4JC7fURLtnqez1fIgp4n8c\n",
       "O7fBQEv8XElreL6sGA5sExLR2l8bNC1SGLhwJRKMwRN8tMbgsdow5u/TKtTp8uI/FPghVT5fbHVJ\n",
       "59uE+FtEetotbXtEcffkD+bjhWJmXVy3T/lftfkDOGl71cZ3nMbwKj2zj8TqCal4bsXMQHiApAWL\n",
       "myD+lj0xr+YrLfdkGph7ZumdIeMAF45ea9nw9iDKiIvNlUDIsjiFLkePGGwWKSo4TDPpuLdFRoFq\n",
       "1vXXD/bkfFoK2ttAsVu7W7t0k00z4k9rLLTaknuWa2Vy4CbiuOUbILbU2Q5SKx4InM1tU4N/ydAQ\n",
       "0/st3X8zJSgcM48vEwTZUVPX1R+3GuNsGWqAFLNvp8SzAI+sSPOgxctrtknestV+B87w+1ELXcnr\n",
       "4c2nnEx6ps6aUauxQm0cEss0VLCq8oQIq8+f2yWA1oNuy+yKkBmQyIyBagqy3DkXP5tfk+ixpsQO\n",
       "sBr5HVKGIsKNRScty7TmsZrbsWdxSB4GXSuK2Kqm4+S9NG4parqXlKXdGaoE4hG4GkhUauRkSPSQ\n",
       "UsBF83ElxUqzeLOJVlMZse588dEGo9gC5cksNfwdtiW00mrw7FrN84br03yELkh9w1ldSd72zdRe\n",
       "kXEUgxp3hsnpyi6x1RODGvhJO+Wyxh23gFLZ+1iyMVkdyLTnM/LD1fXXkpQhqtPx5JqXyDL1VnkZ\n",
       "lUEJ54YkCD3APSCkUL7QilEZAAACj0GaIWxC//6MsAig6nAJhsQmQZiMMpfGykRQupkD5/q/b65g\n",
       "WnOayaU+CqzSwtYtJlL1kpd0irYD7fqeU25Yv8jNpjlm8b4ABQaPENPjgCUZ89psZ2NgXL+PuoBy\n",
       "I1GnnMU4UyPj05I7fFtxUcokZMsNeJJJwS3f/1KS/tpp85qPQ/mcyq0k20S5vgAAlJdizFQn8eCA\n",
       "VE457XY/0gHK0G8WA6Eq/yOlAD1RVuntahG8KHbXOLL3/352c2qeOvyuu0KX2qHqGL3bTgI/Mzo/\n",
       "iw0K0YdziqzccWt30lcPVJk5el94eiFVbLVrsf96cjROQULh8UtPqUXCr1fYlOBgZRPWCrxaK4t4\n",
       "aDYFPvKCtz6MayiYmejkm1pQgtn/MO9/BQ6S/JuMfnmbi1vigzioZ5lbyJ/GbzX6LRwsj/r13c/0\n",
       "k8VU48fHq8ShjO7Cl6xIe5t2Nh5b/Hy7H43z18/9cflJkXyyoSZHQIVDZphaQqDjrca3AOhGd3Sc\n",
       "2+7gViAmvT8bffVfGiz5pTWcbZOOQe2oTTxWO9AgFDnwCivuvWNtA14VNzMXID6ejPWlME4Foole\n",
       "H/I4J2hVF+HozuczYD8yCWSG8+ohoVR4coOaRWoEfNlFfs6ANGcNywLMUpg7vDXXYhmOt+YJJTrr\n",
       "paw5lZ742U9GCaB8C9K8rxLzAGvWm1E8thW1bM2bvKbc7aQ4Mremaa/QVMsblKZSdtY5iYgcKK6G\n",
       "mHuUw0176GOqLrCvqGGbA3jeJG3rjWu9fQHKtxSVKLIaEIVoHBRZA06UmIOieh/3QZaXNBxLxcvA\n",
       "qOvhwLb5N3GkYA7ty5vYOdsPJCgtUCPdWxHaDxwPczrXTRlabIvrFfdg53azA0sItZAAAAEPQZpE\n",
       "PCGTKYQr//44QLtmalOq3XZrbLfOvbZ9OCXzUC+gACrRuVOgQ5mtQJExSPyJJ/9X0eEFlQV3EpDE\n",
       "V8jwcPd6qqmxwvJ6X+DlHs21R97kZkXoXDUoEIxLsp5b1nk1HYYdX+g8vC++WKTYZo7sNp+hEC2/\n",
       "NSrWp43wmvwpAtQOadC3lVkScwfRolCJo3xqI/s5tDwE4d5k71jG9C2HgcuP9LkPbH9LV9OBHzrl\n",
       "JIs+eIn3AEgEfSQPD8tms7nrM9ijDqBUD1wRllLFMj3egNeF4giC756DSpmaM9MmC+gJasJwUvBu\n",
       "0xbrLh7z4XQCueTnG7ecpwv4/y0M8PyfQdN8wSExOv9wK5ZpnAu+8QAAAJlBnmJqU8I/BRRNnhKl\n",
       "WzxKUdK8cnhcfdFfEgo3hviYyVRhh1su1l75obwrDC3kyDNK9bL3BfGa56upHyBfz7x6TSAx0DAD\n",
       "ZeoFMVTNL2MbfGg+x7KRsQn1MYzI/5USpGwDYJ+Eo9sYJhVKR+kKlCoj0JVTPStDdHUUAiKLjjCU\n",
       "+U7uh2yXbDKVrvEWlo3YCFNXJsN7g2PgBcQAAAB+AZ6Dakf/AyDv1/aPrFxLnvLjrlTM8HUGoqKr\n",
       "3SzI03/QA8TPBHD4hezbKFyjZBJiveOk/TYbzj4Gk3bnTTIDaC6ciodqBekFSbnU7AKA9QgxNvYf\n",
       "8BwnIcS27RtGN/40Owic5g8t7dsb3YotVjGHUxCEslssjdtaqdr7QCDhAAAA40GahUmoQWiZTAhf\n",
       "//6MsGxrdufC3NBtUBtChUTgs0gCohGWHcfsWrrRRE7Op6LpLQPo4QzHhTKa4OtIsO4tGy4/zXb7\n",
       "HZdi/Zog/T6xEjJOY08xwCbvMsnkEdSJFq2MVjh94RlTPmZz1rRo9aImlECOr/ft+GZSfqZfEcdl\n",
       "uEKiFi5arMjR3ypxSQgMM++uD+IWJHs4RqFRTR+/t65Z1buBUHIQirRtM+qxIbKJD/qg6rB6FXvf\n",
       "cob9N5x2v5KJnZEb9fsClC+cv7HYJY5OFK9aozKUnxs+d0xwQNGKDIAkGKjzAAAA/EGap0nhClJl\n",
       "MFESwv/+jLAHHi4nGk4oEkv1ZqJaATTw+jsV962NNjeYqoh7gwmj4TyPe+VXVPGYzjHepebyO2fW\n",
       "lSTRPelBiWDLN8x4/b4iVImnjoW1Oj0/F9d/5TA722BIF3Mj55i8CE8YwQLjKJNhlwB2av8Dy4xq\n",
       "+VMuNxtxKXJhcY08EgFoJ8xndAzVzoYiNp+OBFEPMdMvycN3/d0IE9itF6zmVZ8iEbQvDzIne4ky\n",
       "Pgf1BuUc74lK3YrRxjd2lY5nFCPFYLRjMgvvL0QA3ILMVihW7lHq5MUUp1vwutiaEveZtWIeX5Ob\n",
       "tZt0rsiyHkzil8nHk0/WQQAAAF0BnsZqR/8G8ELax1SWhH6pFP/cAYakcEfesggyktldwy1KzIHH\n",
       "XDC32lusNu2/S1UHsQVKq94JvMyJbr6MdKJCTJ1QIHWhutA7Wp0CDkWFo3S8zt9EhU6dX6n0HVEA\n",
       "AAEhQZrJSeEOiZTBRML//oywBs9HCI5Jb5wUtq8VQAaPuAKghcVFzalgr9Umdmv7KfbvpytzM/9R\n",
       "eDBeWhntI9s8NGsJLNcuHWlta8S0FsjHBn96AT4NLjJb92Y0CYfO3MJdHc+JFAlwaygFq6dyv5WT\n",
       "pDz58ETdgupI/vKcnl7LBIA6iFo+2y3VI3cYiuFEzS4zEs0SauaVhn96utXuvddHdOHGde0czXci\n",
       "qCOalqy9Z2KtGqiYm/tfNOVGz6P6hhQt+uVUpOVKJTAPRyQPNdmqe03lEV0cEjygFU5O+7tucs4e\n",
       "c0nCOva3UPMmeSRX4LNjJPa5srWKAaMbqZObSxPOlcc1VDLt8zLXnCXIfpTkxvC1eaufZgS3gGjA\n",
       "0Va3zeFOQAAAAGwBnuhqR/8G8ELWFhsAcxEKexgergn3C+moOCQV/8R4Atn36Hbisq7bDNwZgb7i\n",
       "/p80x8oSBatRfEkkMdsF+MwhD9aIkmTFud3cRHrOi+RF/+MNQl4hFXOHLqPxaINCCzkPKORbz+rV\n",
       "/fYGatgAAAEIQZrrSeEPJlMFPC///oywBx7FoBNh9zI4ygh1hTneWpROV3Dgsn24wBF2KQZbJZ/M\n",
       "7uEam6gxrNEnzD0moyhvZBB+vraWBmGVGcLieY/yYDlkZc/ylftQM513r2IC3PkZPci5BrEmWRF+\n",
       "DLv1iMuCsFWRRPpSdJyKx/n+CtkvcUphDENWpy8EG0EBd+pXsAmjVg2ghpW4nejWR0hKFuYkMuuV\n",
       "I1YSGLaG0XHWfPsAaiFfWfFmO8w8Bcsq4Y0xceLmGw9h8KabRqQKEs46/1BNhpwz5/0mZWtRzq4I\n",
       "ys8aoRsqpm3R+oxDYTN6HzPR5jLMOs40MEs2eIIUFu9V/Ncoz4tNzahRZXKTAAAAYAGfCmpH/wbw\n",
       "QrF5un8f0D3u4xUT7wxTcROULjysSLOQguaInkI0K39VwBRaliJJE5Xydtad6UVPO+MW/cjToROI\n",
       "+ttV+D9XemHRDsJkDmb0O+eNcuH765nqV0ewTcRbwAAAAStBmw9J4Q8mUwIX//6MsAducbgqnqbF\n",
       "KBU0WhR9F7jsfYdYChnrhJOJeAIB4iTk/NKWoxe5sAT1OgU8f9BjFfslgFKKXwcJ7qp8jA992gxz\n",
       "znlIvbgVmkkfm1W5yBNr9AjpZwfOLrAD1T63XG0LGBTclxlBLcsJXOUcqmqO5riBfM4RRHTS8+TW\n",
       "fcUoi8gEfP724ESmqQ9w56daf1fROaz4Km2EmVT3u4ffiIFTOw6qmvCGST9mN3GkQEKMz47z/+mF\n",
       "lRvNkHTHUu2AbSdSGLkjuI6L+BSEKuqih3aVoo7HK8HlqnHphCf5n7NswSMTUjxq7mmh/OXSmSLV\n",
       "lFhmEgbVZwTwoMkiJtaNUNwfSSXCxA6I1MJYroqAc8UO1D7z4vuco1/OyJDc/+GJgAAAAIVBny1F\n",
       "ETwj/wSZSTGYuYC2Ro6jWH/m5+3VD9wE9QyPiu96jQIZntMJ8dDP8ARGtvTJ5RbkEY+R7qRliHX3\n",
       "QhiZ0qIAkeMBi1nAUyZbh8V6pHwI6Bossz9FNH/XagduihL611pXyXHEy9qP2StE2pVCOOmMJedK\n",
       "AS7XsPa+s0JGRMBgAhOPAAAAawGfTHRH/wNHOOxpFkDkVDkC5PVIDS6GumbS+kfpzVRrGvG9USk+\n",
       "wMDPcamu22BajpaCI6YiR/Ljz8rA0RuU4ZZCZ0DrJWK2M8LiqmqSsrP1AlfDBoa71KRz1+lLD1sK\n",
       "3VpOLmy0wFe80UKBAAAAaQGfTmpH/wNHcX+DOKwFbeD6X4vH5fbBott0ONAj0VHeTdeELFlsnf+6\n",
       "xNu67GQd69Y4goS0SyJ3v6ojPIXKFmhQO0QZ9D9RXGI/+/YeVdgbdcPgKNQ2ktcxxEzQCkUJz69z\n",
       "c1Jz5eCDgQAAAOhBm1FJqEFomUwU8L/+jLBNs/qiCWKoKdBlWDUlBnJ2xWmkADYxUhCTjnx06tCC\n",
       "O6t5HJJcTdtmdGzTu0LYwpY0LGbqV36wnCKbLzgvafyaM+F7i/+x/estXJbTSRwMefa63sjiDN7f\n",
       "Wdob8qnZfko/czZUpjFYEboUb+hKgr7NotynQuDVdiPIysRqf1wCyOXXTnqjwuRPh60DjRucumYN\n",
       "ccKCBsGN2z/y4R8oA/SzwnM0GoVurHqqHGMH/B84P2aPjgw6g33kLh3DB0/APGZwoQVik1c/uVJf\n",
       "6qavaOZpE6433uJVi64gAAAAXwGfcGpH/wNdJQ13qiroKm6u/W2MRK6q3+TJ0H9HlgMs8qCwY3Z4\n",
       "pWkn/dem1mqqphFLwYgCjIEEpVLjROgWMZMV5i41ua112K8mF7GppBLPDF8y6bSfKQoIGa4z83UM\n",
       "AAAA7EGbc0nhClJlMFLC//6MsAduYG0KfVNOGnVuCm7EvoDRNfzaoAX+2bpfT+n9Jpr/OPA20yPi\n",
       "CPQ4kSLxpakkitFaqvYk05xG34nl4vZunWjCUXISH0tS6p9pvSHaFtK/OIbc8BIAWKa817TI+Edq\n",
       "7frPdtFt428Eqv2npwv6IT4c5ySk3NbL5QLCWQUlWgEUIyWstXHCANUEVseHdWau0G4NhjYnYAUo\n",
       "CQakJqHV5iTeQQIs7yZeeQGUB4+NaOxjFPCsUzqFvSTs4m6L47y5pwL1X5s9PtrxuJxxXQ5QTv0s\n",
       "8uYtdZvThEMcKPeBAAAAZQGfkmpH/wNbcX+DU+c87ob7Uy5Kl58qD6SK7cwdgaOJrPDHhUQZvgn8\n",
       "L1Vlcgybktrtm9eTxi2n9+EgGCJFq1auY5W1urn6Of2GnWWPldCDuCbhtLc05ZrjKg3Vw1S+j73D\n",
       "N+wTAAABBkGblUnhDomUwUTC//6MsAduYGxV4AcSUjGFADpHrhPay8vKmZ3WJH0u0rckuydBeJ0a\n",
       "PvSY6AjtWM88nReIQKGS5ecvdJRLrPSaEuhl6Wg1/uzbO7PEaALoEfK2daFxxJlE5oVaIeyIBa1E\n",
       "Emwko3r+rqCjadZmldNGo4QMwj2zcnWz1nWjYeOIy0cilRzNNlc59GInKCPzCCl7dG3na/Fuuty4\n",
       "RzHK5xKdLJehQ1Iq4tZw3AUeTGnKLbWuSyAKhzHhgGcawYROt3L6JBQYvnVAwzlX0JUwcf/NMkSF\n",
       "J8sC9mGruh55zvrr6iRxB9KxD96ByJ4cSEnUuG2yrUd7jcmovRBKn4AAAABxAZ+0akf/A1zv1/PU\n",
       "zk8xdR+V/+WxDu7L7AljUV2eAA3q0OaUtbhEfvqAkUTt1gsCqxjwAxd+L3vzLW2zvvdFF9gXmuwb\n",
       "j5R/uKsiApzZyilpUP3fnX+m50jVEtcXsPknt/lDX16lT7EKyEiaGZ5mIaEAAAEPQZu3SeEPJlMF\n",
       "PC///oywB25fg++gBCZcFHiQs4ccye0pNyt7i9vuH9w8RHQ+XdtBh+jEgDdftAAYP/MC65gThpsC\n",
       "4uT0SjX6jd9TFvJf5EI1Sx1pUDOeeJ5N1ZilMkLMXJrYTHAqriq5a/12e27jIaN1o0rtBDs3UxuY\n",
       "/USAHqdUFYzGjbpZhvI0amYIlQPPXWF71sf/xdgwq0PI8juoqc65KBtRRbXevN6L6PRPjJNAYDMM\n",
       "805BZQr5zY0DQcsdEzv4eUIbIBTAjvlsLsoR1S+Fi9YLlTuWPgVqSmNsic64GdEZOtejIwefQ7Pc\n",
       "CnGs9/L5tKk0Mq4wznzadZPBMCwe1xbXe7c3owR2tN68cAAAAGUBn9ZqR/8DUgLKWOb1eoGU2vPr\n",
       "Zl3rfBRTnt3FHwGVfMwBxuogiKjNa9MZoTHJW2AibgeBWYPHoDpi+Kh6ABLKGlsF8Ac2Me1I3OIy\n",
       "qhwysoNphFJ6t4n6V163rqqlSEvPUYo2xwAAAQdBm9lJ4Q8mUwU8L//+jLAHauNIM8XcRRF9Gzat\n",
       "36ZCgBvY3M+T6mgytB5ojvZWraXUYBwJVo3kZnj90BJvVu0A1cPMYJ4Szx0KYZDfw8ft3f/b79rt\n",
       "6Cpx952QamDXluPG8xURWhtiQf3lVGj3Hx0M38906pAjWVi3wAigufrA8YuIQGDmavaVepb1klya\n",
       "cpaJBnbJrnEqCzanEVcHAnFOoyGdaxdKPN/HDwlM/xcGVqr/vBVL8CdPYHzxDaaNDYWmOStk9gHH\n",
       "i1OlWuZQ4ky5maGfRDNI71acaBaGMxHQU5I/jtmO8UDtJK3lAS4IXybdeud1X5D/52ntRy6yUjSo\n",
       "l+avfuONgQAAAGwBn/hqR/8DUkbM463fHstlX+UwAJ2VVTL5fmqbElmNSi3JV36andIcFHzM80v0\n",
       "PB4nsdJ0Tflzn/RKUdwZPFxmnARBpFhiPx/rzJuFbg9CiTEHa3T0mIOmSnTgddNdzbl4trX/UIHP\n",
       "llihZqwAAAEHQZv7SeEPJlMFPC///oywB3r/1KGogAy5Bio2eQNGnKhpj6ewg5G/6HGoP3PNwe8j\n",
       "BsYEWAslu0bnxIgRMEzklnzU60NflfgHcjP6qUhAJd5SA5PUKzV7OBe6aG0gnbeZUw8maRBj/MSE\n",
       "yLG7pRB7CzhB7NSZHjnREuij7/EzFWAl49qZLNROrZ6GevJFWvN9DovKPCVgeA72SDc0/qdFgcA8\n",
       "Qxu9ZwDAyKqeKTrUZ5y5x51MxLq3LS7rLvyy1akglIUFMNBt+ka23UQIWRtGiyMW4oEDesIXY+a1\n",
       "EQX2ErBm8bMpotoCGxFEiOJwfWgEynQAnJSQqYwS+dwN+TWOg9xEW36E00EAAABmAZ4aakf/A1IC\n",
       "yiZ8hEEFzSomYK4SMjCIIzv8XA5hgKV1u2JIatLvfostofmDz3IfC5UvnlQ6MDJKFpmXospFUcDh\n",
       "RLy2zY9+o34AjzMqxdt1cgujGkrdqqhHio7+Ni7RR6jfTv1YAAAA80GaHUnhDyZTBTwv//6MsGxr\n",
       "d415Pcq/LNpgA0bxe+XojsD2LJIZj78wkvOwWRZRyDzplghITArJKhMbnwatzxlx/73piplYaJk5\n",
       "KswanXm+JSC//+1UiB1c4LFkU/60HxGoQeoeQ2vOVWcSx34v6nVcVnRf0U5COhBUfZ9b/5CcNWn1\n",
       "ACFTXbp+uCpASnyATnYD+sPUJWbdnbfmiSgzF4PttslB0AKagjCA52TjFW5ScqTQwv9hhgmHnXQi\n",
       "5dlFtICyaFNUjNlVxW3V8QSUqkIxo1xe7vJZ3JJqdmXz2O5RMH989nLxOuGmdtq7zb5XoBdqgQAA\n",
       "AG0BnjxqR/8DWfgHS1l//fm/GmzTgATtzQw4kSxpZUpFYjl2hEUGSuafcdRHp1JxDuxN81KEjW3s\n",
       "cG7esb3jjaHo9hV1hCD3PA+E1txr0MGM4EmYWugOj1v5B8J7x/7tKKUjAYNZbPml73VOrzTBAAAA\n",
       "9kGaP0nhDyZTBTwv//6MsAdxnLsscxcPHY+mCXADiqN6QkklWXbiQpsmvNdbIdF4qTnUVrFuMKjZ\n",
       "mk+3BC3B8cqfjA4f6j2i/Kytd1dsSsI37AdlkuTuQbHGVEgBuGrljP4hJfHWOiB9NfGfQ8nt+sVu\n",
       "exXUiCpvWNL/UaY6eLgOshg9hYjiwLEyhu+NlEgi/+5Ofl9j/AQjuSrGxqnFjFHy+GTi+eKsBAJ+\n",
       "XuwI4crrOmzmL4n+5rSQBvyDnu20HCXoS8Shr7sSQlTgF6QFIaZC6mogXT30p9ycFiFrOdmBP+tm\n",
       "g06jlQ4+sLsVeMQ0J68dbXhRPAAAAGgBnl5qR/8DW+2tLhnbJ8ZIomyqOyQAFxWk/GuWtuhAaoZk\n",
       "1zZQPNbMng1Y+Bs9QKym4U/3IEKtswrqeQd7h0OjEYUjEL1b0Q32drtakycrMMIvONU2BDZRb6q8\n",
       "J/ZYK2STw+V4FrP7oAAAAN1BmkFJ4Q8mUwU8L//+jLAEYBcz6aP5/Xp+HDZy10gDy/zDTYgU8gpE\n",
       "GW/u3dsDACyeEJ7jaW6QKIJcPQqOg7E8uO/6gndPEG19pbEjfmsH1+Trb20sW4t8C0IyhvDVbIj4\n",
       "DP8JWJigmF27MdEMoVGIwTejRO8/e6wu6D3LH6ZL89TJgx2f0NJqxdc65GvlUk+CxGE5p3+YpqKr\n",
       "/CJLy6hmk1VKhpG/n044S6NWJB5dwovBGaTI7B/y/+60uNnn/otWGG6KrF7VWfeIFTpiutEaiTCC\n",
       "ex6Qi1zJ4SHRmQAAAGEBnmBqR/8CPHtWoj+uoTD+oOzWBwxzEhseuiUqEs4c2Ssc80pecGLSDtRw\n",
       "I6DSy2e8+HtDC+qm1CNHiv5h/wADmrRi9xC8hhZDs/kCGDwR/K2FZct9FAhHdI9k1FX8HqKAAAAA\n",
       "6UGaY0nhDyZTBTwv//6MsARgFzMEZ5x55BUL8nUXBlgDlvZYD44a6cR00UC0FEbkyS/aVURBapSf\n",
       "cFDrRARLEilnY+AXI//4h+f9AbRwIvpsh5pEPImcbpPx7/qyPurMftUsLoLjmrpNYB6VVHo7Hgho\n",
       "8tw/Bz+uZntJzHCSkBssVSlSY5AshZNSfdjmRcTQ/ZZb5olwDj66ZgnjupGuZATQvtKY12FCtEy/\n",
       "UAy7npgA279rTcqjm1U+RGvTGv3T+xRsqSqjX7A9Q/FJ8dKZqbWYnPmBsNhjoBkjuDtcohjL8OqQ\n",
       "ZIc+UwGBAAAAYwGegmpH/wI6wJv4MUm0wAU3f8dzddJzLuaEiIHJD+1JyCSxaTQi6/LAEN1sv8+D\n",
       "B+gRwyF1uREWNsHPWzuTERdYeum8dUueBZEOVgEBzbVPmCaSKuGOXj/yMPzGVKZqxR9LNgAAAQtB\n",
       "moVJ4Q8mUwU8L//+jLAEYBeECb+zaibp5v9dhzTEZ2pNYBeJlTm0EljNunPvRVQLwSK1XOYB3BIe\n",
       "1DGPanASQse2ZcNKZDuvolxoEBLNO4ZfZ+R3y8qxdoi34CoGiXYQCjpreJ9gcicfpCxX7x9IIYbH\n",
       "TJry+1cx8FjkzpGSZcgCzGamUbJ32lgWQkptmYrONYnYH6EGsfoCS+lonq8VCxdr6TINeIEnR9BX\n",
       "SzqLOcpKlBTUAzX3R/HNCjP1GnokhfHSeeRRv+wgl0nHD8yex19fTdZCT1VdhlUJ2J214S/FVx91\n",
       "Yyvffxs+P9zkvrAOjw7n36ERQFN7FT0RBVoho2h7C7RsdSOt08UAAABlAZ6kakf/AjvLL4UHUOYl\n",
       "RMXMTEduC4cRfG9+fwMio1G52VhthH+m0PS0uyALO3PboGKu1G0ePw0exzMdFvcx84YDyGIRZ3VT\n",
       "rxyFgjsprgJIbGJVbxyLN49IeXFjH7f+morM44EAAAEMQZqnSeEPJlMFPC///oywBIAXMtH4U51Z\n",
       "jiNMAUBrmZMPdYyNvCftJXZlKBdgv8sAFmR23JHjcXl0ptm4xl4uWYmkzjL0VR+fFNet6P9aGiK3\n",
       "l2LpR5v44eEpgVwsrDXLF7ZuyV/WmoF3CvKcGI3k9CGpQieziYxm6wnHszuTwSK2CKHaZK1CSv6A\n",
       "JQ2bvMnfn9EGVwaKe1W8JBUhpVQfo1jFR0p9GBuodrN5+N+WwTcD/+kTxyhKF82qxD89Gz/Q5rbP\n",
       "k0Uf0Im82GVLvqpM3/zar2+VOmrma4q9k+mIA8X+Xen0vfgdke2APRDUPhB7pmJ3yir8P7r+NgIT\n",
       "1JzLCepfbAfpisRFCcHFkQAAAGkBnsZqR/8CS+838HH3DGYpFLLuXWqJBboEWOPYL55wz2iqf7n2\n",
       "x7sQm+YoHRz9wahw+RIVs2trPgmNHBnDd9l8VtimLWOc9JcueC0hm2mGMNpNHCTMFZVHyjsnEfhF\n",
       "MgQLCi7vPbjkp4EAAADaQZrJSeEPJlMFPC///oywBH8o272maRLtJiJc8H/ZGpaYIYXF3DMLN/1T\n",
       "Wgh3u7Cv7MuYviDoANg55HdEDLCynUlIDrZ7GoDtn9rmB1pCN3ioMsLtC2Yfj2sg494vXlnanvOU\n",
       "q4Bte0d6bB5EjP8uYXi5MGv6tXYjJR0DnbIAmluvjZ43tjv/38DlZnas+EqaLVaHomwRgnnwFfYa\n",
       "mUfdSZicvXOUhOkxC+6SWmPt9YiIPpY3ToN4x9q8GAmwm76BEtkBa8aK1Fa2ghjsJ7tJaLVRhdPm\n",
       "sMR3boAAAABmAZ7oakf/AkrAm/gexJIHkfpf120OhzNOu61VvfuD+nAbcQyotF8s166aHJmdOsl7\n",
       "vXUntxNMqHmh0rpGLvS1ajhWnr2qFezEoTsFRzH24Cvq8D+aRz0xOYWTJjzR0oCw0/EgUhqQAAAB\n",
       "A0Ga60nhDyZTBTwv//6MsASAFzM6Qfa+8OWb1MaCo19OwBDVj45S3HdAH2/h1nw4Nu91z3Gs+6h/\n",
       "WhNwEX8GEnpkuXNZR7fN2qfovFr1dSkx5N1ZAtqJ/4SBKKulfKIi5NrUJY9uBqYvHYke122PimIO\n",
       "4J09j7MrwvYAnupc5ifLl9K2DEFDM/g6n5uQSELS5SWdLThCcaF6NRk29XulUgV5ioIVclkj2l49\n",
       "NWj1ldQ3222y2wCvdUuwdGD95iRzNFH/Kz0ygGrETy9khnFQ/YobHJ/Nhzf7sXOdmRBxnpyL+QIj\n",
       "k9ahjivswkjikR7GqHi0Jw2ZJ8LvtCnv0r8e7stWE4EAAABsAZ8Kakf/AkrAnuAivomC4LQD+qdS\n",
       "t89fH6EoNqnMVkePfB6uHbopYREJTQCf8vkt7xZrrtzTK0jQrESXf18OrxX6KP7PAG8hmw4poUSN\n",
       "dnd+6HetdDwDAFLwziCvsg8LYOw0AEicgHVNQ0uGAAABD0GbDknhDyZTAhf//oywBKFFeh7SEFOX\n",
       "NKzgARFw78U5dvVQd74SQ0NovCK3L09QlcvLM/cslPOGUV2qkFP4ESZ9gbrwFmRVQJBPlX5yNEG+\n",
       "X+Ue/ZEVboBdCLnQm4HJOgMe2V9Kz1J9d5VaqkXIHV/5mKiVKuFLivbYdgSBqW5IiwQcj/6ySZlZ\n",
       "f8Bwy5um3lHporVfM2ql8goUkBG1NYr283FkLiF5+vKcpaTN46ZEvWxGZjn6Ic87wF22XyFPJL5z\n",
       "5WfykLNkIGdiHf7Zrv1tPsvt9/XhS1VLDWQpawlLapiYmLGiVksaqBpug8+5PtYN5QHZp8A5dtCm\n",
       "VWmNu0Gf0F9z9j4vqU2/xv3VDDAAAAB6QZ8sRRE8I/8BffkhI4Li+joVN7H6w6fyOZfl/L1RvUMl\n",
       "dg+W4N2ytcevjK5XgclkkdB7f3e7MmbcPV6IyamQBBQD2ZVQsDplGIe4OJOKBiGZsT6yB0AOKZ1d\n",
       "1l07TJyOOgUFKFmnUuTQvv1pyRx45BWC56rArcZRI2sAAABtAZ9Nakf/AlrAm/gexJIHkfquIKSF\n",
       "EHCSgWMZKdJDDkH5baB33n9x7ZgRgsRD9B/3gad2RXCCZ0fxV6oOhJFmksDW/7Pu1KShrTF/VC/f\n",
       "dpk577rzi9i/xoRb5AVmJ/PDArxafhZdfsGnwgzbQQAAAPhBm1BJqEFomUwU8L/+jLAEoBcz6cuo\n",
       "UsWL+b1ApR5v4OsqkEE15IwAsEjR/C3Pu+uUwS/0wYK3RIAz78JDqmzYGunP2avSI5uluBbMN36S\n",
       "sXXmHl1PJQWgsgkiP4PxetgP+QPQJkz5aLW1Ue42x1HXUnBaGulFPzxeLok5KpBtM46Vg7blhVPE\n",
       "7uiiFD56AT4dzZHhI8bpTcNQTy7c9Uf56kexcXMgEaz622p6bBz5/JMgV5D7qW4WCWzcyIO2Sr+z\n",
       "ybkkreKfMf85OlNYidJiW8RdkAmhKC19iBK5hasdaVXBQfNZvauoVtWepa2RY5RtlIjZRGtjUwAA\n",
       "AGEBn29qR/8CWsCb+EIsuTSpDL1pJ6lXQgvEiKEpDeDMWemobm/Z/xom0R9LtPbfvLcajVnQt4Fj\n",
       "/CfWvtzr5qsLJvjuq01fkn5J5SqAzmggeo7IOzUEoXDUyat+YnJ+t48IAAAA+UGbcknhClJlMFLC\n",
       "//6MsATBCtAsbqWLx1CCbgBOFLthm0gYvNlLyEi/gld58u8HHcTdODsOT4dmsKoPnm0N4Z2IPBpj\n",
       "lkmWO4Nf9wSqk2pvWv9e/hsK23rIaAygApupGI7VSsfPa4Gf5hBRQHY1PrwqInn430d2DelAk/SS\n",
       "OHu47zJtSBiB9O13RXFjxGPkchSlh0yo9Hz8NptdVQPWehGwbqOyeG57VRcRa07RFzu4Lgp1TNYY\n",
       "mFYOzl15Kq00i7gHtFt/cSNvro/NqdWMbof0SdiV6+NQAKpro6tAT/h8nPGJmN2kBdCeo4R/dbpk\n",
       "mdcSH1DL9jIkYAAAAFgBn5FqR/8CasCe4CVtY0wlYm3rIQzn5RZAMR/cRQKivYT2nBMgu/e5LiPX\n",
       "DN/WVqkj3jX+2MHJrQtiCPVO5Z44vphlCH1wcaCw04CAHwsKcNh8M9SXbhlBAAAAxEGblEnhDomU\n",
       "wUTC//6MsATAFzQK7VNRYormaiZ0FsAEfooAcu51aXc3j0O7jbX3ddIfSdTw1iUCVhq5qxbNZzBM\n",
       "RmZ/prnH9Iv7RrJ7/YrGBmRRTuGghaBkTDKfcZfO76U4C44ILssE3O49229AmvMNaULLhhO+buN4\n",
       "c3dba+NrEKtuXVq5UsBi2H/dlw336zNioOIvjtLgi1q5tWRXcw8XC93caiT7GIB89l+TSB4FCmc7\n",
       "JkwvtnfbXn4s4y9tqux4PYAAAABbAZ+zakf/AmrAm/gxST/ShRrR2mJ1LPLfkD3OG1i+oswOjc4g\n",
       "oBTWXX38JxN6E6QvftVTiSKa7hssM9cWtkKeH8s+1M05MfVHvwOHp0qcXMRvMLK5jbr+oPw86AAA\n",
       "AQpBm7ZJ4Q8mUwU8L//+jLAE4HuQBm+pQlvYj4HN/iWxcP3eOj00OpBH8XdxRtjbyuHxiyCsupPX\n",
       "lumeFyLcNSP1Gky8DagJPlIWwkYRBljK1XwKThicah7sye25ifihnwECg/mXmAKGDaZOi4tNQph8\n",
       "akjgoeMrK2Yvs7n5+WHavLMlpBRMa72Bsh5gotfq9KFJL/w5u5F8TkCTUKQXwgDob472qY6vmaH2\n",
       "dWKPMwSTlkaNQiqsuS2jJHn4nm557DsRqLXi/voOi3wp6vD4blYP2MFr+HbEh54lHCrjr6dKQMSa\n",
       "+pb9BJ0ioB7US0mVYm+JwA/G8ckp5Dm7WhRdnIVyAzxo+Nah/4kQIQAAAFoBn9VqR/8Ce+838s9E\n",
       "EgzA1X0SwzbnZRh2hvqX2XiUPX9hp8mexAFnFJ1TC5z20Z39WpyRcTi+Pv9zyQPqdrVOrmoFJH6Q\n",
       "ziLuZyh+xlqAzqr5h+3TI5TXWY0AAADdQZvYSeEPJlMFPC///oywBOVhzcGHULcRmCLlKXgC/Lnx\n",
       "fkrE0mT2xauzWZ2jyD4onQdQL6MzmXScxSXlNXvzkL3ldEWooiG2MEgN3wcPwsX+hLKi+s5u94WH\n",
       "I58igeLCfaqZVo8gkxQfDWhmL37+nq3jE3rrNjnFvS2djQrWaCZ+j65VT/DO59Pjz5+HjQ6RyACG\n",
       "eb4ix33zgFbYnH3kJG/h8rkjgGjbke9tA9beLc8nEPU71ojFjz1r07Z3TpX7Rscn28xtnn6MCOPE\n",
       "fk/1eTyNc5/jiwNyNyH9ZnEAAABdAZ/3akf/AnrAm/hCLLf0tzrgd1yH3kjjTNwPrZ2llCSscUeS\n",
       "cHnFj6rWeRtzKi7MxvnSyF+7RIFN8y7mJgE2bwwqsJStkfirzGwUl+N8HntlA3vCdkvzL0mizQSB\n",
       "AAAA1kGb+knhDyZTBTwv//6MsATgFzMEZ5x5unOfavx1r1PEJaP5E1jfMdu6cRrFVc4rnzICF4nf\n",
       "hMVjCw+7puKbO5RU5Vho3xh1v+lyG/91ZwYjFubRTta1w3pXYaiPr+YLfVoOHa9zLPrw0DJ9UZ6G\n",
       "L2dTiVpZV/j5Ebhl4A9e07Y04MWvRfX6KH9U/AgsIjci/AeaGYsHL+dfg7r1xEZzGfio0XOOJA4H\n",
       "Oe00u4+6Vuv07ox6jTTWw7+nYWGCnf8Y2y9rgoagj6JanFzFuSyjjXXjuI3E+MgAAABaAZ4Zakf/\n",
       "AnrAm/gexJIHkdiR6aViRNMgrINFLR1w01YY9nlgeEUdXsvGuzspPOMvhLJKgxP6cVmAjXrC3GvM\n",
       "L3IyTvv+B9EJp4yYaWBkRQoG7KL1sx2w/W5pAAAA7kGaHEnhDyZTBTwv//6MsAUFY4OJWhE2leEP\n",
       "DqAJrR8Fgdxw4LuNctPUbIPvYGE2Sm5fGYvcYLFknMYmkoQkGsMgprg63risamNt2jWdOgyVxDA8\n",
       "UFond3KxZ4GYOmF/5PPnXrNawBSyQYMtYrRksou0EwTrTgvlnWsLR2V98VbjGDGhGmZgw8864m8L\n",
       "60BP3A0umuNgyYa+j3u9ymoghH/g2uSDqH9DV2PXtQ0Kloh9S/Hvq2ujbupWDnosdfh+QFSZXy42\n",
       "HUwcICGrUNXIRXtmjCztRxErIGjFNJpCeHaLbv5tbaiTh9xQpf2t1voAAABZAZ47akf/Ao2YDXnl\n",
       "mn8MqB2oiJc8e4kQmfwVKMvn+VTUbH7g6WLvogXlaAhf5TNqmoHW+1D2aP4cAnFh37db5DaTaKBI\n",
       "4qi1rDn/j1UGvIR2YgxJjBJE5bkAAAD5QZo+SeEPJlMFPC///oywBQVjKuQARzYBfZkfxXPqRryi\n",
       "S39bXElmxq1YOb4zZjFWd0qtiEf7Qw27eMvcYLJ2XTYth5fcANqF/FRgrpQ/2sCwsyVf8u3DVN1u\n",
       "XbVbD3GMOqvbOAQO2LKhs/7XMFLMlseZFMgmGNrutcetni0miy5Upgr84wlqq2lK55MIDHqpfbOe\n",
       "FwBxWCwQ3yXlgHrcvhtJuz047zkXD406qjw5sjBYT3XEjxGVXIOXGVJd1652W18gVt21DP7KbAdh\n",
       "kdM7qstFQ5Xl4UiQITlqiDmoPKnwtgzMa1x08Je30YCKzdSz4DtyjGtscglBAAAAZQGeXWpH/wKM\n",
       "Kc2M28SSB5H6riCkeF6nNIhqj34PCg0kXwhSDcvjl5phbQJPpekg+1oRKyMXqtaEIuVIA5nVSzhF\n",
       "goABusIeheJABQPAGlQtPaJxmdJXkr5zJYwmBJpppy4MDTdsAAAA5EGaQEnhDyZTBTwv//6MsAUF\n",
       "YyOJguGjZr8ipW7QoHlOV8Tyyga0s/qeuPT5wrPxyMm8WVPlVPZnTNqd+1b/6OksDG48HeOm9plQ\n",
       "Ha0REtC5KEkWR4zu8VzgvhrB5+6QLnehtSTeb7HsGuLIT2xlfYgs2nIT6qwb6ALdWyW6j8Z2ARRr\n",
       "8/CMpeCB7GeNDMfhyV68iZOqXkgczk4Zvzk/RNSEW+DrLGIGJZBkOFzJICym+Ka10SaYBxgt95m/\n",
       "E2eEFh0OpktZwxrkl4d1MF3Qm70392/Z80FDM+crXkNd/PFIfjPrXAAAAGUBnn9qR/8CjCnNjPxC\n",
       "J7CMjUOtqtrNTI/QzZd7pH5MuZo3XWPd3UBUp+nK0bPWs7XWAiOI+OxJxejRMIlF+P4ET3/PUqBL\n",
       "/xYAOL7Z6M+uAZyb2lBLq+RQaEMXeHot6QUmj9f/xQAAAMtBmmJJ4Q8mUwU8L//+jLAFLWOFF+9t\n",
       "OJM+FxG6jsDIjOaQXXqEpUOhwlqU0KHyHcVpLJZLdTLkmPOuk1twYytvjGFi90jfkBIx4TVMar/P\n",
       "02QMZ/RlTonYrIqkSRwW/6NdAfOA9qH8dMqLd+QPSBq7c6ZW1yRQ2Iz6Fr7laH2UZvzxX5/0C4do\n",
       "KPxvI0PP/L1NP8WPvzPjo9cVvTf0vHokSMkff8WUGVMC2ReGtIzHtVvQSSOT1MYf64Z0ffP5ysjX\n",
       "kHNxMbB4qbspKwAAAGkBnoFqR/8Cn2jqWnr58/jMPVgepevHdYYvi0377aQS6SJ3FYxjCaI3gf/F\n",
       "YrtZZpz+xZhotAZ8CNZzg/b3LkgKOvyj02IGv5ABl1IxAGPK53xbPLZOZmMMyt3MRG7mPoI6eBp1\n",
       "SYEKxCEAAADJQZqESeEPJlMFPC///oywBS1jI4ld2oAc9+EoAGrcBuCmh0P2KA2kF+rhqCF++pRV\n",
       "bOtppo3eV1bkDz/sIzthlz5tl+hKlBuDPJr/CyGlyx6gw1DulNEoHtbMfv1n58d74PB9DJ+XKGFF\n",
       "eekXTZYqF8dWyG7vQTXVvbV7+b+jqwVfx0I/stIDL5Z7dd1PF/C/XXkatPtvVs8pp1RxHr8exf/+\n",
       "0+k3xOopla2Cdq/KJoLKldBDncsZP8OiQ+2BUGVUYPFsfmBgiZ5cAAAAZgGeo2pH/wKeKc2M28SY\n",
       "nf3mHFrJmzMNA3NDf3WEi1Ne+ZjvoXtQHWAswZmZHqXUufEsU0q09AQlNwMNXlxnURSHSchgKVox\n",
       "1iX20jzL0wBY2V0gIu5O2sWonq2EkZDROxyus3diPwAAAPBBmqZJ4Q8mUwU8L//+jLAFV5I0TAHq\n",
       "vFmWNfHWoUoGbvmPieXYC5bggBuQNwUuWnR0iOwzBb8MC4dl7WIkzOxdCJ9yVEljpFxYrYH+RvI4\n",
       "9N4w5A53qUJcEq5UwzBAiSnFfYRPBVH42jFb0nbiDPcakOW/WheDo9el0waDnRu0vNvzcolwIdl5\n",
       "pFJ8yqW2AxxJDmgt8zvrzYRVuMb3JTW+0j5pKx8ln7WxRi1jf1vcTeH5LeX9w+9aRC5uQPV3PwR3\n",
       "2LFTIlo+eugsP4iOemD6YXsjHAaoLOyh8fIakfdsE+A6sZgFs1JIq4ZrsN1rC50AAABhAZ7Fakf/\n",
       "ArJAaYylr/oFUehbE5k9EuujuwlgU8zggkbJUXJebfhUi/FuOlehIIQQEHGNBG8PYcy3j7ZcaGO9\n",
       "ho1NXSvns2WuojTiRyDGTb1Kj8lImYBJAk5x9Lan/XZm/QAAAS1BmspJ4Q8mUwIX//6MsAVY/E+i\n",
       "8Mjk4G5dAgzANr3iPkdVe4Ajg6iPv7ruG+ylRJyHOHIvvk9MKVFjiqfn9nDZVFBl9XkDtHCc1RGG\n",
       "IssvgyEmwYhWhya/IBEC2nR15d63mmJK5fLC4NyPinYNbFetBlt/Yz7kTRcJghS50IChHdn0rpJB\n",
       "f2ja3c5VgWEhuKNMggdyKlgGkFIK2TM+pwz7u8AthTmeDlxSudGXI2i4QyejDSpnqCeG7KdMrZib\n",
       "G98uLST16s6+sdGP2ozZOpuFDDS6nluGYmuCzz1MxfvG2hgdjrEsC11luh4Blch3FYX+zxxe/mYV\n",
       "23JRFzK2USW6tJWRznY43vmTPQNca+HSI9KNrLEIekcpweJiJs6BpkgJfQvyM2C6B1FjrZpBAAAA\n",
       "j0Ge6EURPCP/Aa/5INZYfjMOmHcWftATkR8GcMxZ8MNgZoSlh9Ntiv8IWSJwgruFuhn2XsavC6YB\n",
       "QYtUPJcIyghkFakv5NcoPJspBzYXaVoD9gP+voFT3IwHU6yLkMfslBD5NZf3Pj8wiLH+z/9p60EL\n",
       "dUREbs11ENK7bFxC2qEK+bN25+9OqoB/2wfVVEYcAAAAdgGfB3RH/wKv679JDu8AwP5CHT1y3xar\n",
       "FbohfjYXQR+pPyjWtljxu/h1QP8PLZTO4Zmijftx5VvrIMqEoWPjJNoKF8dZSEnqCDZpOQ+ROPUn\n",
       "nvPYRgbwrp8AHG7afM1qDcWS5qvRmCMAhKMVIfmQXVh/3aFJHRAAAABrAZ8Jakf/ArApzYzbxJIH\n",
       "kfpfw2uoPYmOznZAqS2Hy4z5XkRAMVz2KTVAV83m7yqmzMr6/E4B6jkvzLMNmGVGIsLYogYM8ZE4\n",
       "eLsCOGD5rOtvndKr0mMM6XhMNmWoo5/Do/dG77r1fQiKQ8EAAADyQZsMSahBaJlMFPC//oywBYOS\n",
       "NirwA4kavOxgEDmaeBO3gmrkTtM///nat4alSAGeDf6zA7Dd9knvA9Jzhe5/iEVmNeblhdpBh/Pk\n",
       "pIEEwCSek8YW0X+wL06HINU/W7uwB8uvtmos3WO/WMw84P5vAhxeqNsFbdVVTYcKno0hShN/EHOO\n",
       "D/ZkjuAksev7aabkopLgHSSkyC8fqUt7h5fPSQWA1tIlDE0CORT+D9TWPQ4+T5hn6/qJq/L3GxVY\n",
       "LpT1wueipA51RENBqzhzVj4N3dXBd3RHf3lACd0b8YCowe3bTN+euMpEVFsoLVafSLa7HbAAAABj\n",
       "AZ8rakf/AsIpzY0GJQvIVjAlrxgUgf8bo97K8f5IFAxvss/LsQgeBHEBDcLmSPxjRCeEelcDtowC\n",
       "3f6mHFMXnp/XS1RxLTelrkrszB9hzyPGGDI25edmTFDDUK1ZI3l68O8DAAABAEGbLknhClJlMFLC\n",
       "//6MsAWE+7rLvcweVD6lPABx0WryMEOeJv5ODejmxwxqom7hju2aeM1bqOfaDTy6/vP7N7xHnX98\n",
       "27tx09Eq3X0YmKxcr6NbJEL7zc2LMdnwvr9mWertEkTq0irNS/6Y1fycxy9c36+gdHIEnXvHHaNG\n",
       "sZqtyil8Z2fkJLzi2eoo/lN25hqmUNZeNdXqrTuTcqimNtoavdYNIbH7g81ZoRnucnhG8iLVrPWE\n",
       "FoiObr4HNKODC0p2DHUO36MduTslaisvEfwxfTiAwESG2MGAN3dzUXzk7PdRy5pzu8iTs6Ebk9Ro\n",
       "Hoz8IM/fbjuHJv1QywRkMu8AAABmAZ9Nakf/AsNo6L7NrFkIAieQU4siRf0F7hYlZX/fsK1VwGFR\n",
       "L8CiBpX/eyja4HMwP6huzY7XwILq/MvUYtxR7Xg+6Iv38lciRLhW6NES9Eg592FRDAIGKJ9tDOoA\n",
       "PUYSFivDJKsNAAAA5kGbUEnhDomUwUTC//6MsAWDkjRLzDordFV8tAJp3XF5sMc8UGEALGvF0L/5\n",
       "AioxCEL/SQPKg81yl2Y3mPkIsc12qvW4jicruLoATw8bYcz99dNTQA9JBZHwCMRZuyKf2lprfSkq\n",
       "J9UVqBA1bDH5Q0TdmZMb4sX7KuPbIZGnHSpHQCHdFS490WTkDjxItu8dt0BfOLsQwKk6uVsUN3Rj\n",
       "VoB8L6zcngoppH+ktzzHS+KFZeGYhG7y0lsNlM9EOPelL0g3uphE6CX4Aif+J3h8k6HXlLKqBUCl\n",
       "iv/6npTZKeAJy30cD3jJAAAAXwGfb2pH/wLCKc2M/EInsIxvwecOeV8B5J/XRJ7TlQNrfY3iK64f\n",
       "jtw0d0XaTXW7GDYziLzy6hHa3BG5M2DcAtNrqUm7B5kVoO5u3SuDk8ad48yjo0Bcyij8IEtVh4yu\n",
       "AAABEUGbdEnhDyZTAhf//oywBa+Y6zVPO1WQHLhDXxIFABU2RanI6LiOqkOK5TWiDWMNrDdoPKTa\n",
       "ckdhBEB0Dv37FOmIvWsJkzqeGu91nEMtxOeyEy1faFa2S0Dm7RNswh8kIyvcTbvYaSfoGd23N9Vo\n",
       "U4JuGbXsWdWk5BcBQCTCjmQ8M05dFDQRuSLAHwHXCMHopoZrSNG7aFwO5FFZwLUxJ1VvQYPPCcfO\n",
       "DqvdzUoDwrB01jGoNxVLdQh81mE44DJAsszgMNJ0CF+Ob+RNJJOjoHrPJmWNWFn5HiGixTaYjV4c\n",
       "rV6QzBYcoMvbe8hYE7u49fLzEygbsqe+8cMMXf6cDGuCdzwu7l1bIRSZr0ybPLdCCgAAAIdBn5JF\n",
       "ETwj/wHEyeaqWH4zDpjQIGPp+ahmjvFVH5ui6zHX3WO4YBPESCNLSi/8If4qTB4DVcaUd4+xlcqq\n",
       "MnfjSOrZQ0pcnAnXDI9ARaHXDPZfn0ZadPVYZ0IwEZujyCdTykmzrE8uyA2HrBRkT6hDSVRKrvFp\n",
       "rEvmUQ42bp7jl06am7EEEJkAAABmAZ+xdEf/AtWbXrNBqoX0H5vAftjT2/HfZHgLF9/Gm7ylMoAS\n",
       "ehaZ+GSKRY1LgBFsWZ/7ZHtDFMkiAxrMA0QvQeILmrkfS9vIaj9WGbxacbslk2lIKaalrDUHYx7k\n",
       "p6ZuojmtLiOgAAAAaQGfs2pH/wLUKc2M28SSB5C3jZh0rB0jYAjtkEunmFq3OsBDx1/XqrUum6RS\n",
       "AFchGhHwvDEVGKN7X1P5mcTqFC61a8WLkVHRVo61XwM/Ixc1qNc13tubYCHNeCy8ARJnfpep6Cxm\n",
       "VFcyUAAAAOVBm7ZJqEFomUwU8L/+jLAF3vA2MaoszIaWj0kARUshdLMr5TPse0vYhLUF068O8Kf3\n",
       "fNhXc/cIzRkCW4TwZ9x1Flm0+fP1k0sesJmGlh42ma9rhO/z782ISadxm9qau+i5zfhG2KHNplgW\n",
       "PFMnKKFCfV0RcLy9IOhu5m2YUDp2AzNLDLEiH5FNi/fu9DetvQT6T0re5ED6x3fHNngdpzRiKGRo\n",
       "t0DeANVl6XHmNAdOjAGLhpy5s3FkR1XIoIr342FgoV4mDWenYZKAOdmOClCQGfk5KCbS7gdHpKOb\n",
       "ipOAbsuvgmeZAAAAXQGf1WpH/wLnlrfS4n/ZQ/l7P3LZUjYo+CyUGSI2fJcEKBIj6bu3jEB3R1zi\n",
       "rhfgLpZtm64YIh4U9QYpzcKmb9RQNAOtMM/l0SD7Ncwg1X4IGvkMNZA0otVajeAIGAAAAQVBm9hJ\n",
       "4QpSZTBSwv/+jLAF3vC5t1s828W5kcS7PsqgCK81Ab9LwR3k2slISKMZYEpuIdVo6BG+viR4xsrK\n",
       "wikyB6LTiXmv3VH4a8msn19TWbZNQJ5hPM7GXvPcD1Su4vvxR28fq1qAk/z2i/RqWDaDQLCSl2rd\n",
       "FaGVpgjqLeVUuP1CYkrA9pafJJe87l3mcwSlAnLZlGd9sYJHdZauc4AyPsUzPx0t+d6lEObuZttO\n",
       "ugmi3UTxcWVdqOHVcY9ZrOJtbssOwyjJprxDVkjmO/u+M1l1Cf6h+omBH+g0FUujoAZjKCnAKdGX\n",
       "2sv88yJgYlT2CKfvvhGRY0hbgzU9UKhHp1npCFkAAABVAZ/3akf/Audo6lp2fHI0vMd0QYJtpIya\n",
       "9J7rNJEmq4A5RV1dQTtC1zCkKnkc5j5KlRSwPsjOfnTUDl4JpcRe0cmK5RglHl1AmZyxAOSVJEUG\n",
       "bNA+IQAAAP9Bm/pJ4Q6JlMFEwr/+OEAWXGfLEoRGQIwo6GnhmU8UWGgdUQ8L+KbId7bg00YLiKgK\n",
       "HQBMxxHifpmDtCJP4Lvi0UIm/QncYiAyBinY+W7MRol8xkUJfSNlYX1pH7BiWFK4bS7COkmN83dR\n",
       "gBYvUQLksFYM/TiBfKyh4ibXeN0XL/gBevl9s7GvnIPseL2SJPGUR4vsMXnEP92iS0pLNR37SY4L\n",
       "etiplvW+Zx+iYSgHr7Anlnn2fHzGVksc/mM8EPKQpkRPjOYPC95diIOw0F1Hd+zezKiWF8JMh91P\n",
       "0B1zssx4krCoxTIQsOLwGoFPFw9C5sfeeNtBRY6V7P4p76gAAABgAZ4Zakf/AuYpzY0GJQ5pUgiZ\n",
       "QZVG5XX5qpx6OBlzPqqZyPADCOCPq0gFmZLRFpZkhS3zbKLuGdVCgWYokGB2k52oYYCOXTgbRKk2\n",
       "/XeCq/KpWq6GK1HmCji5md+2+B0VAAAAvEGaHEnhDyZTBTwr//44QBcZN9g/maTFTN2ChzMuf8MS\n",
       "M+rKuJ3ZaAilDK1trqAJ5HwFzE7lhX9Viyoytu4S7+3SKqugI7oZruiY/r1EGRrV5hqkLTUnH2DC\n",
       "/qzS4sbI+TpICmEhVwJwxbTz5xyWIqVTHvMGKxpuf9QTm1FQ9f//k8NSc2yLwvK/MsoyBz1R8EyD\n",
       "UupObtVzNkM9xP6Z9dDWiJvH5iZ8qXin6cp5K0pVpqv8kmG7P7RQAG5AAAAAYgGeO2pH/wL4Kc2M\n",
       "8IORp69zlhdm8zs/c3eX3j/oXqEsh+RypdToZ7mmTJkmbruaHvJl6ibYYP1v67nYOHGJyW0SIhpt\n",
       "T8ADQwnHPfTmB3IzY7gYhg141Ro0f/tbgefvSC6hAAAApUGaPknhDyZTBTwr//44QBcZOj8Q1dQy\n",
       "QuLNZqM0mreVGSHEATwzFkUSRjGnZ+yeRVl2JGiPWo6RHOnEwjOxPF9xcUPMY4XVWSv+F5IvHCmM\n",
       "fnMVADoJa62tvruGSzwF9agGQp2PT9gyGDw1tuJzI3qhzdlds9tw9Ak3hcHvBUawfulqD4/QRsDB\n",
       "7g+pAXOJ/JFw4PT/Hz973Qkdobxf5E6KtN0hYQAAAGABnl1qR/8C+CnQymqsrDgxaTZhhOqbILtj\n",
       "ol4ZjwMfGBqyIrkSwyq7s2F06l8CtR7BmZTTSed7894eih8HmqZpz6tY0TOipVodeBVmemYg/d0F\n",
       "zZqIzAAsFkgXJkq0LoAAAADJQZpCSeEPJlMCEf/94QBcWSSquCB8GC9mHOCYwrUO0ubtJRMuxdRZ\n",
       "Lqi6jQZa0ISKUxPrgzb/0o0qvS7nnc0nIfyt93d0CT8tOUQCkfYASyCqOcbA7U+OXYunh3wizjSM\n",
       "VCfiReyhcRyv6nLtXcfVfbUVA4/kaFAdUpmWod3JigcH/ODMr0Oi/RBIpym3PP6Fsc+ba6KiaEM5\n",
       "o4NaScdyezA9dinH8p9a/qXCYyl5pW9rh9t7a1mF3zYFpJ3tE5VytZQdTi+ZgHBAAAAAfEGeYEUR\n",
       "PCP/AeXJ5qpZIIl/jnL0JyT0nFVt+Yya8RpDqJRyK9qNOebliver8VOcFvaI/Fz/WR51eYa8QlNb\n",
       "Z3lDc6UwFPdwYne5U/YkECqP4H43L6EwP5gmPaAYEpN4iHLlUsJYJY8bX+a5pJi59A/C3FScigGz\n",
       "0Bv/GjEAAABPAZ6fdEf/Aw1zGonBaCQsydiWWxomOjblIUXP0t66Ufql2v73J6vYsk5J+s5kny94\n",
       "X/5xkIWiFB9Yeop+4L5H8mgCXbuiJj/o+n0Wm8wQcAAAAF4BnoFqR/8DC3F/g1Pn9MSN/CPtGVL+\n",
       "I2zGoGOZwX1lBjiGyMR5hvl4rCHqI5N3yQekieen5yh6U/FdLuRGSN0ESvbzalE63NGeMbOBRhqM\n",
       "nIQqbbIi78s6F4GB4eivAAAAeUGag0moQWiZTAj//IQBZXFYMHSwFkGF3Y4aHpnKLLDyiILCvv+P\n",
       "HHl7Op5WOqNp6m+UQMQOsYYjSPrAEkIoQ7PpGj6gD5PFvHfByH2ZqzisfEeILW1GtGj3BzLBxMcx\n",
       "u5X/eCWwWPEz9TnpgRD1ud37zi+5nCUAMKAAAAfGbW9vdgAAAGxtdmhkAAAAAAAAAAAAAAAAAAAD\n",
       "6AAAB9AAAQAAAQAAAAAAAAAAAAAAAAEAAAAAAAAAAAAAAAAAAAABAAAAAAAAAAAAAAAAAABAAAAA\n",
       "AAAAAAAAAAAAAAAAAAAAAAAAAAAAAAAAAAAAAgAABvB0cmFrAAAAXHRraGQAAAADAAAAAAAAAAAA\n",
       "AAABAAAAAAAAB9AAAAAAAAAAAAAAAAAAAAAAAAEAAAAAAAAAAAAAAAAAAAABAAAAAAAAAAAAAAAA\n",
       "AABAAAAAAbAAAAEgAAAAAAAkZWR0cwAAABxlbHN0AAAAAAAAAAEAAAfQAAACAAABAAAAAAZobWRp\n",
       "YQAAACBtZGhkAAAAAAAAAAAAAAAAAAAyAAAAZABVxAAAAAAALWhkbHIAAAAAAAAAAHZpZGUAAAAA\n",
       "AAAAAAAAAABWaWRlb0hhbmRsZXIAAAAGE21pbmYAAAAUdm1oZAAAAAEAAAAAAAAAAAAAACRkaW5m\n",
       "AAAAHGRyZWYAAAAAAAAAAQAAAAx1cmwgAAAAAQAABdNzdGJsAAAAs3N0c2QAAAAAAAAAAQAAAKNh\n",
       "dmMxAAAAAAAAAAEAAAAAAAAAAAAAAAAAAAAAAbABIABIAAAASAAAAAAAAAABAAAAAAAAAAAAAAAA\n",
       "AAAAAAAAAAAAAAAAAAAAAAAAAAAAGP//AAAAMWF2Y0MBZAAe/+EAGGdkAB6s2UGwloQAAAMABAAA\n",
       "AwGQPFi2WAEABmjr48siwAAAABx1dWlka2hA8l8kT8W6OaUbzwMj8wAAAAAAAAAYc3R0cwAAAAAA\n",
       "AAABAAAAZAAAAQAAAAAUc3RzcwAAAAAAAAABAAAAAQAAAxhjdHRzAAAAAAAAAGEAAAACAAACAAAA\n",
       "AAEAAAQAAAAAAgAAAQAAAAABAAACAAAAAAEAAAMAAAAAAQAAAQAAAAABAAADAAAAAAEAAAEAAAAA\n",
       "AQAAAwAAAAABAAABAAAAAAEAAAUAAAAAAQAAAgAAAAABAAAAAAAAAAEAAAEAAAAAAQAAAwAAAAAB\n",
       "AAABAAAAAAEAAAMAAAAAAQAAAQAAAAABAAADAAAAAAEAAAEAAAAAAQAAAwAAAAABAAABAAAAAAEA\n",
       "AAMAAAAAAQAAAQAAAAABAAADAAAAAAEAAAEAAAAAAQAAAwAAAAABAAABAAAAAAEAAAMAAAAAAQAA\n",
       "AQAAAAABAAADAAAAAAEAAAEAAAAAAQAAAwAAAAABAAABAAAAAAEAAAMAAAAAAQAAAQAAAAABAAAD\n",
       "AAAAAAEAAAEAAAAAAQAAAwAAAAABAAABAAAAAAEAAAMAAAAAAQAAAQAAAAABAAAEAAAAAAIAAAEA\n",
       "AAAAAQAAAwAAAAABAAABAAAAAAEAAAMAAAAAAQAAAQAAAAABAAADAAAAAAEAAAEAAAAAAQAAAwAA\n",
       "AAABAAABAAAAAAEAAAMAAAAAAQAAAQAAAAABAAADAAAAAAEAAAEAAAAAAQAAAwAAAAABAAABAAAA\n",
       "AAEAAAMAAAAAAQAAAQAAAAABAAADAAAAAAEAAAEAAAAAAQAAAwAAAAABAAABAAAAAAEAAAMAAAAA\n",
       "AQAAAQAAAAABAAADAAAAAAEAAAEAAAAAAQAABQAAAAABAAACAAAAAAEAAAAAAAAAAQAAAQAAAAAB\n",
       "AAADAAAAAAEAAAEAAAAAAQAAAwAAAAABAAABAAAAAAEAAAMAAAAAAQAAAQAAAAABAAAFAAAAAAEA\n",
       "AAIAAAAAAQAAAAAAAAABAAABAAAAAAEAAAMAAAAAAQAAAQAAAAABAAADAAAAAAEAAAEAAAAAAQAA\n",
       "AwAAAAABAAABAAAAAAEAAAMAAAAAAQAAAQAAAAABAAADAAAAAAEAAAEAAAAAAQAABQAAAAABAAAC\n",
       "AAAAAAEAAAAAAAAAAQAAAQAAAAABAAACAAAAABxzdHNjAAAAAAAAAAEAAAABAAAAZAAAAAEAAAGk\n",
       "c3RzegAAAAAAAAAAAAAAZAAAE0UAAAKTAAABEwAAAJ0AAACCAAAA5wAAAQAAAABhAAABJQAAAHAA\n",
       "AAEMAAAAZAAAAS8AAACJAAAAbwAAAG0AAADsAAAAYwAAAPAAAABpAAABCgAAAHUAAAETAAAAaQAA\n",
       "AQsAAABwAAABCwAAAGoAAAD3AAAAcQAAAPoAAABsAAAA4QAAAGUAAADtAAAAZwAAAQ8AAABpAAAB\n",
       "EAAAAG0AAADeAAAAagAAAQcAAABwAAABEwAAAH4AAABxAAAA/AAAAGUAAAD9AAAAXAAAAMgAAABf\n",
       "AAABDgAAAF4AAADhAAAAYQAAANoAAABeAAAA8gAAAF0AAAD9AAAAaQAAAOgAAABpAAAAzwAAAG0A\n",
       "AADNAAAAagAAAPQAAABlAAABMQAAAJMAAAB6AAAAbwAAAPYAAABnAAABBAAAAGoAAADqAAAAYwAA\n",
       "ARUAAACLAAAAagAAAG0AAADpAAAAYQAAAQkAAABZAAABAwAAAGQAAADAAAAAZgAAAKkAAABkAAAA\n",
       "zQAAAIAAAABTAAAAYgAAAH0AAAAUc3RjbwAAAAAAAAABAAAALAAAAGJ1ZHRhAAAAWm1ldGEAAAAA\n",
       "AAAAIWhkbHIAAAAAAAAAAG1kaXJhcHBsAAAAAAAAAAAAAAAALWlsc3QAAAAlqXRvbwAAAB1kYXRh\n",
       "AAAAAQAAAABMYXZmNTguMjkuMTAw\n",
       "\">\n",
       "  Your browser does not support the video tag.\n",
       "</video>"
      ],
      "text/plain": [
       "<IPython.core.display.HTML object>"
      ]
     },
     "execution_count": 4,
     "metadata": {},
     "output_type": "execute_result"
    }
   ],
   "source": [
    "HTML(ani.to_html5_video())"
   ]
  },
  {
   "cell_type": "markdown",
   "metadata": {},
   "source": [
    "#### Example 2. Saving the movie\n",
    "\n",
    "A simple \"save\" command turns the animation into an mp4 movie file, that you can use elsewhere. "
   ]
  },
  {
   "cell_type": "code",
   "execution_count": 5,
   "metadata": {
    "execution": {
     "iopub.execute_input": "2020-07-08T04:44:25.511554Z",
     "iopub.status.busy": "2020-07-08T04:44:25.511200Z",
     "iopub.status.idle": "2020-07-08T04:44:28.201986Z",
     "shell.execute_reply": "2020-07-08T04:44:28.201655Z"
    }
   },
   "outputs": [],
   "source": [
    "ani.save(\"movie.mp4\")"
   ]
  },
  {
   "cell_type": "markdown",
   "metadata": {},
   "source": [
    "#### Example 3. Playing the movie\n",
    "\n",
    "Now that the movie is saved, we can just play it directly in html. This is a useful trick in case you have a movie that takes a long time to create. You can create and save, and let the next user just play the result.\n",
    "\n",
    "> Note: Chrome may not work here. "
   ]
  },
  {
   "cell_type": "code",
   "execution_count": 3,
   "metadata": {
    "execution": {
     "iopub.execute_input": "2020-07-08T04:44:28.205218Z",
     "iopub.status.busy": "2020-07-08T04:44:28.204878Z",
     "iopub.status.idle": "2020-07-08T04:44:28.207165Z",
     "shell.execute_reply": "2020-07-08T04:44:28.206836Z"
    }
   },
   "outputs": [
    {
     "data": {
      "text/html": [
       "<iframe src=\"movie.mp4\" width=600 height=400></iframe>\n"
      ],
      "text/plain": [
       "<IPython.core.display.HTML object>"
      ]
     },
     "metadata": {},
     "output_type": "display_data"
    }
   ],
   "source": [
    "%%html\n",
    "<iframe src=\"movie.mp4\" width=600 height=400></iframe>"
   ]
  },
  {
   "cell_type": "markdown",
   "metadata": {},
   "source": [
    "## In case of problems: ffmpeg\n",
    "\n",
    "For the animations above to work, your computer system needs to have the ffmpeg package installed. You will get an error if you don't have it.\n",
    "\n",
    "To install, you can open a terminal window in your Jupyter hub, and issue the following command:\n",
    "\n",
    "```\n",
    "    sudo apt-get install ffmpeg\n",
    "```\n",
    "\n",
    "Hopefully this gets you up and running. "
   ]
  },
  {
   "cell_type": "markdown",
   "metadata": {},
   "source": [
    "## Live Python Animation\n",
    "\n",
    "Sometimes we want to have Python code running, and plotting a result at the same time. This is handy when creating complex animations and you don't want to use the complex methods above.\n",
    "\n",
    "You do need to load in a couple of special commands, to control when the plot gets cleared and how quickly it is redrawn."
   ]
  },
  {
   "cell_type": "code",
   "execution_count": 8,
   "metadata": {
    "execution": {
     "iopub.execute_input": "2020-07-08T04:44:28.209256Z",
     "iopub.status.busy": "2020-07-08T04:44:28.208947Z",
     "iopub.status.idle": "2020-07-08T04:44:28.210671Z",
     "shell.execute_reply": "2020-07-08T04:44:28.210350Z"
    }
   },
   "outputs": [],
   "source": [
    "from IPython.display import clear_output\n",
    "from time import sleep"
   ]
  },
  {
   "cell_type": "code",
   "execution_count": 9,
   "metadata": {
    "execution": {
     "iopub.execute_input": "2020-07-08T04:44:28.217419Z",
     "iopub.status.busy": "2020-07-08T04:44:28.216490Z",
     "iopub.status.idle": "2020-07-08T04:44:50.117212Z",
     "shell.execute_reply": "2020-07-08T04:44:50.115263Z"
    }
   },
   "outputs": [
    {
     "data": {
      "image/png": "[encoded data removed]",
      "text/plain": [
       "<Figure size 432x288 with 1 Axes>"
      ]
     },
     "metadata": {
      "needs_background": "light"
     },
     "output_type": "display_data"
    }
   ],
   "source": [
    "x = linspace(0,2*pi)   # the x axis values\n",
    "\n",
    "for t in range(0,100):    # our animation loop\n",
    "    plot(x,sin(x - t/10)) # plot a sine curve, shifted by t/10\n",
    "    show()                # show the plot\n",
    "    sleep(.1)             # wait for 0.1 seconds\n",
    "    clear_output(wait=True) # then clear the plot and go to next one"
   ]
  },
  {
   "cell_type": "markdown",
   "metadata": {},
   "source": [
    "## Caution\n",
    "\n",
    "The above animation code is live, and running Python code. This means it will NOT work in a static webpage or HTML output. But it is great for when you are working with real code."
   ]
  },
  {
   "cell_type": "markdown",
   "metadata": {},
   "source": [
    "[![Callysto.ca License](https://github.com/callysto/curriculum-notebooks/blob/master/callysto-notebook-banner-bottom.jpg?raw=true)](https://github.com/callysto/curriculum-notebooks/blob/master/LICENSE.md)"
   ]
  }
 ],
 "metadata": {
  "kernelspec": {
   "display_name": "Python 3",
   "language": "python",
   "name": "python3"
  },
  "language_info": {
   "codemirror_mode": {
    "name": "ipython",
    "version": 3
   },
   "file_extension": ".py",
   "mimetype": "text/x-python",
   "name": "python",
   "nbconvert_exporter": "python",
   "pygments_lexer": "ipython3",
   "version": "3.8.6"
  }
 },
 "nbformat": 4,
 "nbformat_minor": 2
}
