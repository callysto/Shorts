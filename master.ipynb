{
 "cells": [
  {
   "cell_type": "markdown",
   "metadata": {},
   "source": [
    "![alt text](https://github.com/callysto/callysto-sample-notebooks/blob/master/notebooks/images/Callysto_Notebook-Banner_Top_06.06.18.jpg?raw=true)"
   ]
  },
  {
   "cell_type": "markdown",
   "metadata": {},
   "source": [
    "## Master\n",
    "\n",
    "The Callysto project is focused on creating Jupyter notebooks for the K-12 curriculum in Canadian schools, and to teach students and teachers how to create their own notebooks.\n",
    "\n",
    "This notebook points to a collection of short demos, explaining how to include basic elements in your own Jupyter notebooks. FOr instance, how to include images, music, videos, graphs, even mathematical and geometric tools useful in science and technology classes. \n",
    "\n",
    "More complete notebooks with these features are available on teh Callysto website (https://callysto.ca). Here, we show the simplest versions to get you started."
   ]
  },
  {
   "cell_type": "markdown",
   "metadata": {},
   "source": [
    "#### Note:\n",
    "\n",
    "This repo is specifically designed to run under \"mybinder.\" This limits somewhat the tools we can demonstrate."
   ]
  },
  {
   "cell_type": "markdown",
   "metadata": {},
   "source": [
    "### Demos that I want to do\n",
    "\n",
    "- [Including images](Images.ipynb)\n",
    "- [Including Callysto banners](Banners.ipynb)\n",
    "- [Including GIFs](GIFs.ipynb)\n",
    "- [Including YouTube videos](YouTube.ipynb)\n",
    "- [Including Geogebra apps](Geogebra.ipynb)\n",
    "- [Including WebGL animation](WebGL.ipynb)\n",
    "- [Including Music and Sounds](Sounds.ipynb)\n",
    "- [Creating synthetic sounds](SynthSound.ipynb)\n",
    "- Simple plots ( [matplotlib](Matplotlib.ipynb), [pylab](Pylab.ipynb), [Plotly](Plotly.ipynb) )\n",
    "- 3D plots ( [matplotlib3](Mplot3D.ipynb), [Plotly3](Plotly3.ipynb) )\n",
    "- [Animated plots](PlotAnimation.ipynb)\n",
    "- [Animation in D3](D3.ipynb)\n",
    "- [Using widgets](Widgets.ipynb)\n",
    "- [Using namespaces](Namespace.ipynb)\n",
    "- Including questions and responses\n",
    "- [3D graphics, like the eye example](3D_graphics.ipynb)\n",
    "- inserting an excel spreadsheet\n",
    "- grabbing data from the web\n",
    "- [Drawing figures in HTML, SVG](HTML_Drawing.ipynb)\n",
    "- [Hiding code](Hiding.ipynb)\n",
    "- [Creating a slideshow](Slideshow.ipynb)\n",
    "- [Saving your work on GitHub](Github.ipynb)"
   ]
  },
  {
   "cell_type": "markdown",
   "metadata": {},
   "source": [
    "![alt text](https://github.com/callysto/callysto-sample-notebooks/blob/master/notebooks/images/Callysto_Notebook-Banners_Bottom_06.06.18.jpg?raw=true)"
   ]
  },
  {
   "cell_type": "code",
   "execution_count": 1,
   "metadata": {},
   "outputs": [
    {
     "ename": "ModuleNotFoundError",
     "evalue": "No module named 'pythreejs'",
     "output_type": "error",
     "traceback": [
      "\u001b[0;31m---------------------------------------------------------------------------\u001b[0m",
      "\u001b[0;31mModuleNotFoundError\u001b[0m                       Traceback (most recent call last)",
      "\u001b[0;32m<ipython-input-1-f3f77372729b>\u001b[0m in \u001b[0;36m<module>\u001b[0;34m()\u001b[0m\n\u001b[0;32m----> 1\u001b[0;31m \u001b[0;32mfrom\u001b[0m \u001b[0mpythreejs\u001b[0m \u001b[0;32mimport\u001b[0m \u001b[0;34m*\u001b[0m\u001b[0;34m\u001b[0m\u001b[0m\n\u001b[0m",
      "\u001b[0;31mModuleNotFoundError\u001b[0m: No module named 'pythreejs'"
     ]
    }
   ],
   "source": [
    "from pythreejs import *"
   ]
  },
  {
   "cell_type": "code",
   "execution_count": null,
   "metadata": {},
   "outputs": [],
   "source": []
  }
 ],
 "metadata": {
  "kernelspec": {
   "display_name": "Python 3",
   "language": "python",
   "name": "python3"
  },
  "language_info": {
   "codemirror_mode": {
    "name": "ipython",
    "version": 3
   },
   "file_extension": ".py",
   "mimetype": "text/x-python",
   "name": "python",
   "nbconvert_exporter": "python",
   "pygments_lexer": "ipython3",
   "version": "3.6.5"
  }
 },
 "nbformat": 4,
 "nbformat_minor": 2
}
