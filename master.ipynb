{
 "cells": [
  {
   "cell_type": "markdown",
   "metadata": {},
   "source": [
    "![alt text](https://github.com/callysto/callysto-sample-notebooks/blob/master/notebooks/images/Callysto_Notebook-Banner_Top_06.06.18.jpg?raw=true)"
   ]
  },
  {
   "cell_type": "markdown",
   "metadata": {},
   "source": [
    "## Master\n",
    "\n",
    "This is the master file, showing all the short demos."
   ]
  },
  {
   "cell_type": "markdown",
   "metadata": {},
   "source": [
    "### Demos that I want to do\n",
    "\n",
    "- [including images](Images.ipynb)\n",
    "- [including Callysto banners](Banners.ipynb)\n",
    "- [Including GIFs](GIFs.ipynb)\n",
    "- [Including YouTube videos](YouTube.ipynb)\n",
    "- [Including Geogebra apps](Geogebra.ipynb)\n",
    "- [Including WebGL animation](WebGL.ipynb)\n",
    "- [Including Music and Sounds](Sounds.ipynb)\n",
    "- [Creating synthetic sounds](SynthSound.ipynb)\n",
    "- Simple plots ( [matplotlib](Matplotlib.ipynb), [pylab](Pylab.ipynb), [Plotly](Plotly.ipynb) )\n",
    "- 3D plots ( [matplotlib3](Matplotlib3.ipynb), [Plotly3](Plotly3.ipynb) )\n",
    "- Animated plots\n",
    "- Animation in D3\n",
    "- namespaces\n",
    "- Including questions and responses\n",
    "- 3D graphics, like the eye example\n",
    "- inserting an excel spreadsheet\n",
    "- grabbing data from the web\n",
    "- hiding code\n",
    "- using widgets\n",
    "- [Saving your work on GitHub](Github.ipynb)"
   ]
  },
  {
   "cell_type": "markdown",
   "metadata": {},
   "source": [
    "![alt text](https://github.com/callysto/callysto-sample-notebooks/blob/master/notebooks/images/Callysto_Notebook-Banners_Bottom_06.06.18.jpg?raw=true)"
   ]
  },
  {
   "cell_type": "code",
   "execution_count": null,
   "metadata": {},
   "outputs": [],
   "source": []
  }
 ],
 "metadata": {
  "kernelspec": {
   "display_name": "Python 3",
   "language": "python",
   "name": "python3"
  },
  "language_info": {
   "codemirror_mode": {
    "name": "ipython",
    "version": 3
   },
   "file_extension": ".py",
   "mimetype": "text/x-python",
   "name": "python",
   "nbconvert_exporter": "python",
   "pygments_lexer": "ipython3",
   "version": "3.6.5"
  }
 },
 "nbformat": 4,
 "nbformat_minor": 2
}
