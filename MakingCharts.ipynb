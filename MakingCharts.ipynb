{
 "cells": [
  {
   "cell_type": "markdown",
   "metadata": {},
   "source": [
    "![Callysto.ca Banner](https://github.com/callysto/curriculum-notebooks/blob/master/callysto-notebook-banner-top.jpg?raw=true)\n",
    "\n",
    "<a href=\"https://hub.callysto.ca/jupyter/hub/user-redirect/git-pull?repo=https%3A%2F%2Fgithub.com%2Fcallysto%2Fshorts&branch=master&subPath=Plotly.ipynb&depth=1\" target=\"_parent\"><img src=\"https://raw.githubusercontent.com/callysto/curriculum-notebooks/master/open-in-callysto-button.svg?sanitize=true\" width=\"123\" height=\"24\" alt=\"Open in Callysto\"/></a>"
   ]
  },
  {
   "cell_type": "markdown",
   "metadata": {},
   "source": [
    "# Making Charts\n",
    "\n",
    "This is a short tutorial on how to create charts for use in class. We will cover\n",
    "- scatter plots\n",
    "- bar charts\n",
    "- line graphs\n",
    "- bubble plots\n",
    "- pie charts\n",
    "- histograms\n",
    "- plotting from a data frame\n",
    "- writing cleaner code\n",
    "\n",
    "This is a live notebook. You should start by running the code. You can click on the \"**Run All**\" button in the menu above, that looks like this:\n",
    "<img src=\"RunButton.png\" alt=\"Run button image\" width=\"100\"/>\n",
    "Or you can select the menu item **Kernel/Restart & Run All.**"
   ]
  },
  {
   "cell_type": "markdown",
   "metadata": {},
   "source": [
    "To learn all about Plotly for use in Python, please see the documentation online at https://plotly.com/graphing-libraries/\n",
    "\n",
    "\n",
    "## Getting started\n",
    "\n",
    "We are programming in Python. If you need help with Python, please see Callyso's \"Getting Started\" resources on how to start programming.\n",
    "\n",
    "It should be easy to use the following code directly, making edits to create any changes as you see fit. Just remember to follow the same syntax. That is, use the same punctuation (periods, commas, brackets, parenthesese, spacing) as you see in the code. If something is wrong, Python will give you an error message that can help explain what needs to be fixed.\n",
    "\n",
    "We start by importing (loading into code) a software library, named Plotly Express."
   ]
  },
  {
   "cell_type": "code",
   "execution_count": null,
   "metadata": {
    "execution": {
     "iopub.execute_input": "2020-07-08T04:44:52.932156Z",
     "iopub.status.busy": "2020-07-08T04:44:52.930013Z",
     "iopub.status.idle": "2020-07-08T04:44:53.244172Z",
     "shell.execute_reply": "2020-07-08T04:44:53.243867Z"
    }
   },
   "outputs": [],
   "source": [
    "import plotly.express as px"
   ]
  },
  {
   "cell_type": "markdown",
   "metadata": {},
   "source": [
    "## Example 1 - a scatter plot\n",
    "\n",
    "Here is a very simple example. Using the \"**scatter**\" function from Plotly Express (the px library) we pass x and y values and have them plotted. \n"
   ]
  },
  {
   "cell_type": "code",
   "execution_count": null,
   "metadata": {},
   "outputs": [],
   "source": [
    "px.scatter(x=[0, 1, 2, 3, 4], y=[0, 1, 4, 9, 16])"
   ]
  },
  {
   "cell_type": "markdown",
   "metadata": {},
   "source": [
    "Notice the plot above is **live.** You can click on it, scroll on it, even save it to your computer at home. \n"
   ]
  },
  {
   "cell_type": "markdown",
   "metadata": {},
   "source": [
    "### Titles\n",
    "\n",
    "It is useful to add a title to our plot, which we do by adding the keyword **title** to the function call. "
   ]
  },
  {
   "cell_type": "code",
   "execution_count": null,
   "metadata": {},
   "outputs": [],
   "source": [
    "px.scatter(x=[0, 1, 2, 3, 4], y=[0, 1, 4, 9, 16], title=\"Our first chart!\")"
   ]
  },
  {
   "cell_type": "markdown",
   "metadata": {},
   "source": [
    "### Labeling the axes\n",
    "\n",
    "We can also rename the x and y axis, by adding the **label** information to the function call. Here we are using a data format called a dictionary,\n",
    "```\n",
    "{\"x\":\"Integers\", \"y\":\"Squares\"}\n",
    "```\n",
    "which is a list of pairs of text strings. This tells the plot to replace the label **x** with the word **Integers**, and the label **y** with the word **Squares**."
   ]
  },
  {
   "cell_type": "code",
   "execution_count": null,
   "metadata": {},
   "outputs": [],
   "source": [
    "px.scatter(x=[0, 1, 2, 3, 4], y=[0, 1, 4, 9, 16],labels={\"x\":\"Integers\", \"y\":\"Squares\"})"
   ]
  },
  {
   "cell_type": "markdown",
   "metadata": {},
   "source": [
    "### Titles and axes labels\n",
    "\n",
    "Of course, we can also include a title and change the x,y axis labels using a single function call, like this."
   ]
  },
  {
   "cell_type": "code",
   "execution_count": null,
   "metadata": {},
   "outputs": [],
   "source": [
    "px.scatter(x=[0, 1, 2, 3, 4], y=[0, 1, 4, 9, 16],labels={\"x\":\"Integers\", \"y\":\"Squares\"},title=\"A nicer chart\")"
   ]
  },
  {
   "cell_type": "markdown",
   "metadata": {},
   "source": [
    "## Example 2 - a bar graph\n",
    "\n",
    "Creating a bar graph is the same process, using the **bar** function in Plotly Express (px). "
   ]
  },
  {
   "cell_type": "code",
   "execution_count": null,
   "metadata": {
    "execution": {
     "iopub.execute_input": "2020-07-08T04:44:53.618947Z",
     "iopub.status.busy": "2020-07-08T04:44:53.618422Z",
     "iopub.status.idle": "2020-07-08T04:44:53.641837Z",
     "shell.execute_reply": "2020-07-08T04:44:53.642100Z"
    }
   },
   "outputs": [],
   "source": [
    "px.bar(x=[0,1,2,3,4],y=[0,1,4,9,16])"
   ]
  },
  {
   "cell_type": "markdown",
   "metadata": {},
   "source": [
    "### Titles and axes labels\n",
    "\n",
    "As before, we can  include a title and change the x,y axis labels using a single function call:"
   ]
  },
  {
   "cell_type": "code",
   "execution_count": null,
   "metadata": {},
   "outputs": [],
   "source": [
    "px.bar(x=[0,1,2,3,4],y=[0,1,4,9,16],labels={\"x\":\"Integers\", \"y\":\"Squares\"},title=\"A bar chart\")"
   ]
  },
  {
   "cell_type": "markdown",
   "metadata": {},
   "source": [
    "## Example 3 - a line plot\n",
    "\n",
    "Creating a line plot is the same process, using the **line** function in Plotly Express (px). "
   ]
  },
  {
   "cell_type": "code",
   "execution_count": null,
   "metadata": {},
   "outputs": [],
   "source": [
    "px.line(x=[0,1,2,3,4],y=[0,1,4,9,16],title=\"My first line chart\")"
   ]
  },
  {
   "cell_type": "markdown",
   "metadata": {},
   "source": [
    "## Example 3 - a bubble chart\n",
    "\n",
    "A bubble chart is really just a scatter chart, where we control the size of the makers. So we need to include both x and y values, as well as a **size** parameter for each bubble."
   ]
  },
  {
   "cell_type": "code",
   "execution_count": null,
   "metadata": {},
   "outputs": [],
   "source": [
    "px.scatter(x=[0,1,2,3,4],y=[0,1,4,9,16],size=[1,1,5,5,10],title=\"A simple bubble chart\")"
   ]
  },
  {
   "cell_type": "markdown",
   "metadata": {},
   "source": [
    "## Example 5 - a pie graph\n",
    "\n",
    "Creating a pie graph is similar, using the **pie** function. Instead of x,y for data, we just include a list of values. The pie chart will show the information as percentages."
   ]
  },
  {
   "cell_type": "code",
   "execution_count": null,
   "metadata": {},
   "outputs": [],
   "source": [
    "px.pie(values=[0,1,2,3,4])"
   ]
  },
  {
   "cell_type": "markdown",
   "metadata": {},
   "source": [
    "### Names and titles\n",
    "\n",
    "We can add names for our list of values (the two lists must be the same length i.e. have the same number of elements), and include a title for the chart, like this:"
   ]
  },
  {
   "cell_type": "code",
   "execution_count": null,
   "metadata": {},
   "outputs": [],
   "source": [
    "px.pie(values=[0,1,2,3,4],names=[\"Zero\",\"One\",\"Two\",\"Three\",\"Four\"], title=\"My pie chart\")"
   ]
  },
  {
   "cell_type": "markdown",
   "metadata": {},
   "source": [
    "## Example 6 - a histogram\n",
    "\n",
    "A histogram looks somewhat like a bar chart, but the information it represents is different. The histogram will take a list of values (the x values) and break them up into a number of equally spaced bins, and count how many items are in each bin.\n",
    "\n",
    "For instance, you might look at the scores on a test, and see how many students got a score of 90% to 100%, how many got a score of 80% to 90%, how many of 70% to 80%, and so on. Plotting these \"counts\" gives the histogram of the grade distribution. \n",
    "\n",
    "For our example here, we will create a list of 10000 random numbers, using the **randn** function. The histogram will show something like a bell curve, with most of the numbers centered around zero. "
   ]
  },
  {
   "cell_type": "code",
   "execution_count": null,
   "metadata": {},
   "outputs": [],
   "source": [
    "from numpy.random import randn\n",
    "myList = randn(10000)\n",
    "px.histogram(x=myList)"
   ]
  },
  {
   "cell_type": "markdown",
   "metadata": {},
   "source": [
    "### Number of bins\n",
    "\n",
    "You can specify the number of bins, to control how fine or coarse that the histrogram will divide up the list of numbers to count, where a smaller number of bins is coarser and larger number of bins is finer. Use the parameter **nbins.** We can also add a title, of course."
   ]
  },
  {
   "cell_type": "code",
   "execution_count": null,
   "metadata": {},
   "outputs": [],
   "source": [
    "px.histogram(x=myList,nbins=40,title=\"A distribution of random numbers\")"
   ]
  },
  {
   "cell_type": "markdown",
   "metadata": {},
   "source": [
    "If you are curious about the list of random numbers, **myList**, we can print them out. Of course, this is a long list (10,000 numbers) so the printout here shows just a few of them, for simplicity:"
   ]
  },
  {
   "cell_type": "code",
   "execution_count": null,
   "metadata": {},
   "outputs": [],
   "source": [
    "myList"
   ]
  },
  {
   "cell_type": "markdown",
   "metadata": {},
   "source": [
    "## Example 7 - Plotting from a DataFrame\n",
    "\n",
    "Data scientists often use a data structure known as a DataFrame to hold their data. A DataFrame is structured like a spreadsheet, with rows and columns holding various numbers representing the data.\n",
    "\n",
    "In the following example, we load in a DataFrame (with a call to GapMinder) representing some information about the population of countries in Europe. We then plot using the pie function, to get a nice pie chart of the various countries. The **values** come from the 'pop' column in the DataFrame and the **names** come from the 'country' column in the DataFrame. "
   ]
  },
  {
   "cell_type": "code",
   "execution_count": null,
   "metadata": {},
   "outputs": [],
   "source": [
    "df = px.data.gapminder().query(\"year == 2007\").query(\"continent == 'Europe'\")\n",
    "px.pie(df, values='pop', names='country', title='Population of European continent')"
   ]
  },
  {
   "cell_type": "markdown",
   "metadata": {},
   "source": [
    "In case you are interested, the following shows the information contained in the Dataframe named **df.** Notice you can see here the 'country' and 'pop' columns in the DataFrame, that were used in the code above."
   ]
  },
  {
   "cell_type": "code",
   "execution_count": null,
   "metadata": {},
   "outputs": [],
   "source": [
    "df"
   ]
  },
  {
   "cell_type": "markdown",
   "metadata": {},
   "source": [
    "### Another dataframe, with a Bubble chart\n",
    "\n",
    "We can use the same idea to create a bubble chart, showing the relative population sizes of various countries, and how this relates to their Gross Domestic Product per Capita (GDP), and life expectancy.\n",
    "\n",
    "The chart uses **color** to identify the continent, and a logarithmic scale on the x-axis (GDP) to make the patterns more clear. "
   ]
  },
  {
   "cell_type": "code",
   "execution_count": null,
   "metadata": {},
   "outputs": [],
   "source": [
    "df2 = px.data.gapminder().query(\"year==2007\")\n",
    "px.scatter(df2, x=\"gdpPercap\", y=\"lifeExp\",\n",
    "           size=\"pop\", color=\"continent\",\n",
    "           hover_name=\"country\",\n",
    "           log_x=True,\n",
    "           size_max=60)"
   ]
  },
  {
   "cell_type": "markdown",
   "metadata": {},
   "source": [
    "## Writing cleaner code\n",
    "\n",
    "In Examples 1 to 5 above, we tried to keep the code very short by including x and y values in the function calls. This is not considered the best way to write code. \n",
    "\n",
    "Usually it is better to define the x and y lists as variables in Python, then pass those variables to the plotting function like in Examples 6 and 7. The scatter plot can also be stored in a variable (like **fig**) and then be called itself.\n",
    "\n",
    "For instance, a scatter plot might be done like this:"
   ]
  },
  {
   "cell_type": "code",
   "execution_count": null,
   "metadata": {},
   "outputs": [],
   "source": [
    "x = [0,1,2,3,4]\n",
    "y = [0,1,4,9,16]\n",
    "title = \"My compressed code makes a nice graph\"\n",
    "fig = px.scatter(x=x,y=y,title=title)\n",
    "fig.show()"
   ]
  },
  {
   "cell_type": "markdown",
   "metadata": {},
   "source": [
    "### Less confusion\n",
    "\n",
    "Of course, you can name the x,y variables anything you like. So if the following example is clearer to you, feel free to write it like this:"
   ]
  },
  {
   "cell_type": "code",
   "execution_count": null,
   "metadata": {},
   "outputs": [],
   "source": [
    "x_list = [0,1,2,3,4]\n",
    "y_list = [0,1,4,9,16]\n",
    "my_title = \"My compressed code makes a nice graph\"\n",
    "fig = px.scatter(x=x_list,y=y_list,title=my_title)\n",
    "fig.show()"
   ]
  },
  {
   "cell_type": "markdown",
   "metadata": {},
   "source": [
    "## Summary\n",
    "\n",
    "There are many, many uses of Plotly for creating interesting graphs. This is only the briefest of introductions. As mentioned above, please go to the Plotly webpages for more details on how to use this tool. "
   ]
  },
  {
   "cell_type": "markdown",
   "metadata": {},
   "source": [
    "[![Callysto.ca License](https://github.com/callysto/curriculum-notebooks/blob/master/callysto-notebook-banner-bottom.jpg?raw=true)](https://github.com/callysto/curriculum-notebooks/blob/master/LICENSE.md)"
   ]
  }
 ],
 "metadata": {
  "kernelspec": {
   "display_name": "Python 3",
   "language": "python",
   "name": "python3"
  },
  "language_info": {
   "codemirror_mode": {
    "name": "ipython",
    "version": 3
   },
   "file_extension": ".py",
   "mimetype": "text/x-python",
   "name": "python",
   "nbconvert_exporter": "python",
   "pygments_lexer": "ipython3",
   "version": "3.6.6"
  }
 },
 "nbformat": 4,
 "nbformat_minor": 4
}
