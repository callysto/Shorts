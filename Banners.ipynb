{
 "cells": [
  {
   "cell_type": "markdown",
   "metadata": {},
   "source": [
    "![alt text](https://github.com/callysto/callysto-sample-notebooks/blob/master/notebooks/images/Callysto_Notebook-Banner_Top_06.06.18.jpg?raw=true)"
   ]
  },
  {
   "cell_type": "markdown",
   "metadata": {},
   "source": [
    "## Including Callysto Banners\n",
    "\n",
    "It is a simple matter to include a picture file as a banner. We have some special files that we use for the Callstyo brand. \n",
    "\n",
    "The banner will \"live\" as an image that is loaded into a markdown cell. The syntax to insert an image is straightforward: start with an exclamation point, then include text and file names in square and curved brackets:\n",
    "\n",
    "```\n",
    "![Any text here](yourImage.jpg)\n",
    "```\n",
    "The name of your local image file goes in the curved brackets. The text is the square brackets is loaded only if the computer can't find the image file. \n",
    "\n",
    "This is useful for when you are loading in an image from the internet -- the link might fail, so you can have some text instead. \n",
    "\n",
    "The banner at the top of this notebook is displayed like this:\n",
    "\n",
    "```\n",
    "![Callysto Project](https://github.com/callysto/callysto-sample-notebooks/blob/master/notebooks/images/Callysto_Notebook-Banner_Top_06.06.18.jpg?raw=true)\n",
    "```\n",
    "\n",
    "If you double-click on the banner, it will show you the markdown code. \n",
    "\n",
    "Try examining the banner below, to see where it comes from."
   ]
  },
  {
   "cell_type": "markdown",
   "metadata": {},
   "source": [
    "![alt text](https://github.com/callysto/callysto-sample-notebooks/blob/master/notebooks/images/Callysto_Notebook-Banners_Bottom_06.06.18.jpg?raw=true)"
   ]
  }
 ],
 "metadata": {
  "kernelspec": {
   "display_name": "Python 3",
   "language": "python",
   "name": "python3"
  },
  "language_info": {
   "codemirror_mode": {
    "name": "ipython",
    "version": 3
   },
   "file_extension": ".py",
   "mimetype": "text/x-python",
   "name": "python",
   "nbconvert_exporter": "python",
   "pygments_lexer": "ipython3",
   "version": "3.6.5"
  }
 },
 "nbformat": 4,
 "nbformat_minor": 2
}
