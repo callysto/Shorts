{
 "cells": [
  {
   "cell_type": "markdown",
   "metadata": {},
   "source": [
    "![Callysto.ca Banner](https://github.com/callysto/curriculum-notebooks/blob/master/callysto-notebook-banner-top.jpg?raw=true)\n",
    "\n",
    "<a href=\"https://hub.callysto.ca/jupyter/hub/user-redirect/git-pull?repo=https%3A%2F%2Fgithub.com%2Fcallysto%2Fshorts&branch=master&subPath=HTML_Drawing.ipynb&depth=1\" target=\"_parent\"><img src=\"https://raw.githubusercontent.com/callysto/curriculum-notebooks/master/open-in-callysto-button.svg?sanitize=true\" width=\"123\" height=\"24\" alt=\"Open in Callysto\"/></a>"
   ]
  },
  {
   "cell_type": "markdown",
   "metadata": {},
   "source": [
    "# Notebook Functions\n",
    "\n",
    "We can use [some JavaScript functions](https://github.com/jupyter/notebook/blob/master/notebook/static/notebook/js/notebook.js) to affect Jupyter notebooks.\n",
    "\n",
    "## Running JavaScript\n",
    "\n",
    "There are two ways to run JavaScript in a notebook that is running a Python kernel, [Cell Magics](https://ipython.readthedocs.io/en/stable/interactive/magics.html#cell-magics) and [IPython.display](https://ipython.readthedocs.io/en/stable/api/generated/IPython.display.html).\n",
    "\n",
    "### Cell Magics\n",
    "\n",
    "Cells where the first line starts with `%%` will be interpreted by the notebook kernel as Magics.\n",
    "\n",
    "1. JavaScript\n",
    "\n",
    "```javascript\n",
    "%%javascript\n",
    "alert(\"Hello World\");\n",
    "```\n",
    "\n",
    "2. HTML containing JavaScript\n",
    "\n",
    "```javascript\n",
    "%%html\n",
    "<script type=\"text/javascript\">\n",
    "alert(\"Hello World\");\n",
    "</script>\n",
    "```\n",
    "\n",
    "### IPython Display\n",
    "\n",
    "The `IPython.display` module can run JavaScript.\n",
    "\n",
    "1. A single line of JavaScript in a string\n",
    "\n",
    "```python\n",
    "from IPython.display import Javascript\n",
    "Javascript('alert(\"Hello World\");')\n",
    "```\n",
    "\n",
    "2. A multiline string containing JavaScript\n",
    "\n",
    "```python\n",
    "from IPython.display import Javascript\n",
    "Javascript('''\n",
    "alert(\"Hello World\");\n",
    "''')\n",
    "```\n",
    "\n",
    "3. Loading from an external file\n",
    "\n",
    "```python\n",
    "from IPython.display import Javascript\n",
    "Javascript(filename='JavaScript_demo.js')\n",
    "```"
   ]
  },
  {
   "cell_type": "code",
   "execution_count": 4,
   "metadata": {},
   "outputs": [
    {
     "data": {
      "application/javascript": [
       "alert(\"Hello World\");\n"
      ],
      "text/plain": [
       "<IPython.core.display.Javascript object>"
      ]
     },
     "metadata": {},
     "output_type": "display_data"
    }
   ],
   "source": [
    "%%javascript\n",
    "alert(\"Hello World\");"
   ]
  },
  {
   "cell_type": "markdown",
   "metadata": {},
   "source": []
  },
  {
   "cell_type": "code",
   "execution_count": null,
   "metadata": {},
   "outputs": [],
   "source": []
  },
  {
   "cell_type": "markdown",
   "metadata": {},
   "source": [
    "[![Callysto.ca License](https://github.com/callysto/curriculum-notebooks/blob/master/callysto-notebook-banner-bottom.jpg?raw=true)](https://github.com/callysto/curriculum-notebooks/blob/master/LICENSE.md)"
   ]
  }
 ],
 "metadata": {
  "kernelspec": {
   "display_name": "Python 3",
   "language": "python",
   "name": "python3"
  },
  "language_info": {
   "codemirror_mode": {
    "name": "ipython",
    "version": 3
   },
   "file_extension": ".py",
   "mimetype": "text/x-python",
   "name": "python",
   "nbconvert_exporter": "python",
   "pygments_lexer": "ipython3",
   "version": "3.7.3"
  }
 },
 "nbformat": 4,
 "nbformat_minor": 2
}
